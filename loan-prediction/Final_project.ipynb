{
 "cells": [
  {
   "cell_type": "markdown",
   "metadata": {},
   "source": [
    "# FINAL PROJECT"
   ]
  },
  {
   "cell_type": "code",
   "execution_count": 273,
   "metadata": {},
   "outputs": [],
   "source": [
    "import numpy as np\n",
    "import pandas as pd\n",
    "import matplotlib.pyplot as plt\n",
    "import warnings\n",
    "warnings.filterwarnings('ignore')\n",
    "\n",
    "%matplotlib inline"
   ]
  },
  {
   "cell_type": "markdown",
   "metadata": {},
   "source": [
    "### Import dataset"
   ]
  },
  {
   "cell_type": "code",
   "execution_count": 274,
   "metadata": {},
   "outputs": [],
   "source": [
    "df_train = pd.read_csv('train.txt', sep=\",\")\n",
    "df_test = pd.read_csv('test.txt', sep=\",\")"
   ]
  },
  {
   "cell_type": "markdown",
   "metadata": {},
   "source": [
    "### EDA"
   ]
  },
  {
   "cell_type": "code",
   "execution_count": 275,
   "metadata": {},
   "outputs": [
    {
     "data": {
      "text/html": [
       "<div>\n",
       "<style scoped>\n",
       "    .dataframe tbody tr th:only-of-type {\n",
       "        vertical-align: middle;\n",
       "    }\n",
       "\n",
       "    .dataframe tbody tr th {\n",
       "        vertical-align: top;\n",
       "    }\n",
       "\n",
       "    .dataframe thead th {\n",
       "        text-align: right;\n",
       "    }\n",
       "</style>\n",
       "<table border=\"1\" class=\"dataframe\">\n",
       "  <thead>\n",
       "    <tr style=\"text-align: right;\">\n",
       "      <th></th>\n",
       "      <th>Loan_ID</th>\n",
       "      <th>Gender</th>\n",
       "      <th>Married</th>\n",
       "      <th>Dependents</th>\n",
       "      <th>Education</th>\n",
       "      <th>Self_Employed</th>\n",
       "      <th>ApplicantIncome</th>\n",
       "      <th>CoapplicantIncome</th>\n",
       "      <th>LoanAmount</th>\n",
       "      <th>Loan_Amount_Term</th>\n",
       "      <th>Credit_History</th>\n",
       "      <th>Property_Area</th>\n",
       "      <th>Loan_Status</th>\n",
       "    </tr>\n",
       "  </thead>\n",
       "  <tbody>\n",
       "    <tr>\n",
       "      <th>0</th>\n",
       "      <td>LP001002</td>\n",
       "      <td>Male</td>\n",
       "      <td>No</td>\n",
       "      <td>0</td>\n",
       "      <td>Graduate</td>\n",
       "      <td>No</td>\n",
       "      <td>5849</td>\n",
       "      <td>0.0</td>\n",
       "      <td>NaN</td>\n",
       "      <td>360.0</td>\n",
       "      <td>1.0</td>\n",
       "      <td>Urban</td>\n",
       "      <td>Y</td>\n",
       "    </tr>\n",
       "    <tr>\n",
       "      <th>1</th>\n",
       "      <td>LP001003</td>\n",
       "      <td>Male</td>\n",
       "      <td>Yes</td>\n",
       "      <td>1</td>\n",
       "      <td>Graduate</td>\n",
       "      <td>No</td>\n",
       "      <td>4583</td>\n",
       "      <td>1508.0</td>\n",
       "      <td>128.0</td>\n",
       "      <td>360.0</td>\n",
       "      <td>1.0</td>\n",
       "      <td>Rural</td>\n",
       "      <td>N</td>\n",
       "    </tr>\n",
       "    <tr>\n",
       "      <th>2</th>\n",
       "      <td>LP001005</td>\n",
       "      <td>Male</td>\n",
       "      <td>Yes</td>\n",
       "      <td>0</td>\n",
       "      <td>Graduate</td>\n",
       "      <td>Yes</td>\n",
       "      <td>3000</td>\n",
       "      <td>0.0</td>\n",
       "      <td>66.0</td>\n",
       "      <td>360.0</td>\n",
       "      <td>1.0</td>\n",
       "      <td>Urban</td>\n",
       "      <td>Y</td>\n",
       "    </tr>\n",
       "    <tr>\n",
       "      <th>3</th>\n",
       "      <td>LP001006</td>\n",
       "      <td>Male</td>\n",
       "      <td>Yes</td>\n",
       "      <td>0</td>\n",
       "      <td>Not Graduate</td>\n",
       "      <td>No</td>\n",
       "      <td>2583</td>\n",
       "      <td>2358.0</td>\n",
       "      <td>120.0</td>\n",
       "      <td>360.0</td>\n",
       "      <td>1.0</td>\n",
       "      <td>Urban</td>\n",
       "      <td>Y</td>\n",
       "    </tr>\n",
       "    <tr>\n",
       "      <th>4</th>\n",
       "      <td>LP001008</td>\n",
       "      <td>Male</td>\n",
       "      <td>No</td>\n",
       "      <td>0</td>\n",
       "      <td>Graduate</td>\n",
       "      <td>No</td>\n",
       "      <td>6000</td>\n",
       "      <td>0.0</td>\n",
       "      <td>141.0</td>\n",
       "      <td>360.0</td>\n",
       "      <td>1.0</td>\n",
       "      <td>Urban</td>\n",
       "      <td>Y</td>\n",
       "    </tr>\n",
       "  </tbody>\n",
       "</table>\n",
       "</div>"
      ],
      "text/plain": [
       "    Loan_ID Gender Married Dependents     Education Self_Employed  \\\n",
       "0  LP001002   Male      No          0      Graduate            No   \n",
       "1  LP001003   Male     Yes          1      Graduate            No   \n",
       "2  LP001005   Male     Yes          0      Graduate           Yes   \n",
       "3  LP001006   Male     Yes          0  Not Graduate            No   \n",
       "4  LP001008   Male      No          0      Graduate            No   \n",
       "\n",
       "   ApplicantIncome  CoapplicantIncome  LoanAmount  Loan_Amount_Term  \\\n",
       "0             5849                0.0         NaN             360.0   \n",
       "1             4583             1508.0       128.0             360.0   \n",
       "2             3000                0.0        66.0             360.0   \n",
       "3             2583             2358.0       120.0             360.0   \n",
       "4             6000                0.0       141.0             360.0   \n",
       "\n",
       "   Credit_History Property_Area Loan_Status  \n",
       "0             1.0         Urban           Y  \n",
       "1             1.0         Rural           N  \n",
       "2             1.0         Urban           Y  \n",
       "3             1.0         Urban           Y  \n",
       "4             1.0         Urban           Y  "
      ]
     },
     "execution_count": 275,
     "metadata": {},
     "output_type": "execute_result"
    }
   ],
   "source": [
    "df_train.head()"
   ]
  },
  {
   "cell_type": "code",
   "execution_count": 276,
   "metadata": {},
   "outputs": [
    {
     "data": {
      "text/plain": [
       "(614, 13)"
      ]
     },
     "execution_count": 276,
     "metadata": {},
     "output_type": "execute_result"
    }
   ],
   "source": [
    "df_train.shape"
   ]
  },
  {
   "cell_type": "code",
   "execution_count": 277,
   "metadata": {},
   "outputs": [
    {
     "data": {
      "text/plain": [
       "(367, 12)"
      ]
     },
     "execution_count": 277,
     "metadata": {},
     "output_type": "execute_result"
    }
   ],
   "source": [
    "df_test.shape"
   ]
  },
  {
   "cell_type": "code",
   "execution_count": 278,
   "metadata": {},
   "outputs": [
    {
     "name": "stdout",
     "output_type": "stream",
     "text": [
      "<class 'pandas.core.frame.DataFrame'>\n",
      "RangeIndex: 614 entries, 0 to 613\n",
      "Data columns (total 13 columns):\n",
      "Loan_ID              614 non-null object\n",
      "Gender               601 non-null object\n",
      "Married              611 non-null object\n",
      "Dependents           599 non-null object\n",
      "Education            614 non-null object\n",
      "Self_Employed        582 non-null object\n",
      "ApplicantIncome      614 non-null int64\n",
      "CoapplicantIncome    614 non-null float64\n",
      "LoanAmount           592 non-null float64\n",
      "Loan_Amount_Term     600 non-null float64\n",
      "Credit_History       564 non-null float64\n",
      "Property_Area        614 non-null object\n",
      "Loan_Status          614 non-null object\n",
      "dtypes: float64(4), int64(1), object(8)\n",
      "memory usage: 62.4+ KB\n"
     ]
    }
   ],
   "source": [
    "df_train.info()"
   ]
  },
  {
   "cell_type": "code",
   "execution_count": 279,
   "metadata": {},
   "outputs": [
    {
     "data": {
      "text/html": [
       "<div>\n",
       "<style scoped>\n",
       "    .dataframe tbody tr th:only-of-type {\n",
       "        vertical-align: middle;\n",
       "    }\n",
       "\n",
       "    .dataframe tbody tr th {\n",
       "        vertical-align: top;\n",
       "    }\n",
       "\n",
       "    .dataframe thead th {\n",
       "        text-align: right;\n",
       "    }\n",
       "</style>\n",
       "<table border=\"1\" class=\"dataframe\">\n",
       "  <thead>\n",
       "    <tr style=\"text-align: right;\">\n",
       "      <th></th>\n",
       "      <th>ApplicantIncome</th>\n",
       "      <th>CoapplicantIncome</th>\n",
       "      <th>LoanAmount</th>\n",
       "      <th>Loan_Amount_Term</th>\n",
       "      <th>Credit_History</th>\n",
       "    </tr>\n",
       "  </thead>\n",
       "  <tbody>\n",
       "    <tr>\n",
       "      <th>count</th>\n",
       "      <td>614.000000</td>\n",
       "      <td>614.000000</td>\n",
       "      <td>592.000000</td>\n",
       "      <td>600.00000</td>\n",
       "      <td>564.000000</td>\n",
       "    </tr>\n",
       "    <tr>\n",
       "      <th>mean</th>\n",
       "      <td>5403.459283</td>\n",
       "      <td>1621.245798</td>\n",
       "      <td>146.412162</td>\n",
       "      <td>342.00000</td>\n",
       "      <td>0.842199</td>\n",
       "    </tr>\n",
       "    <tr>\n",
       "      <th>std</th>\n",
       "      <td>6109.041673</td>\n",
       "      <td>2926.248369</td>\n",
       "      <td>85.587325</td>\n",
       "      <td>65.12041</td>\n",
       "      <td>0.364878</td>\n",
       "    </tr>\n",
       "    <tr>\n",
       "      <th>min</th>\n",
       "      <td>150.000000</td>\n",
       "      <td>0.000000</td>\n",
       "      <td>9.000000</td>\n",
       "      <td>12.00000</td>\n",
       "      <td>0.000000</td>\n",
       "    </tr>\n",
       "    <tr>\n",
       "      <th>25%</th>\n",
       "      <td>2877.500000</td>\n",
       "      <td>0.000000</td>\n",
       "      <td>100.000000</td>\n",
       "      <td>360.00000</td>\n",
       "      <td>1.000000</td>\n",
       "    </tr>\n",
       "    <tr>\n",
       "      <th>50%</th>\n",
       "      <td>3812.500000</td>\n",
       "      <td>1188.500000</td>\n",
       "      <td>128.000000</td>\n",
       "      <td>360.00000</td>\n",
       "      <td>1.000000</td>\n",
       "    </tr>\n",
       "    <tr>\n",
       "      <th>75%</th>\n",
       "      <td>5795.000000</td>\n",
       "      <td>2297.250000</td>\n",
       "      <td>168.000000</td>\n",
       "      <td>360.00000</td>\n",
       "      <td>1.000000</td>\n",
       "    </tr>\n",
       "    <tr>\n",
       "      <th>max</th>\n",
       "      <td>81000.000000</td>\n",
       "      <td>41667.000000</td>\n",
       "      <td>700.000000</td>\n",
       "      <td>480.00000</td>\n",
       "      <td>1.000000</td>\n",
       "    </tr>\n",
       "  </tbody>\n",
       "</table>\n",
       "</div>"
      ],
      "text/plain": [
       "       ApplicantIncome  CoapplicantIncome  LoanAmount  Loan_Amount_Term  \\\n",
       "count       614.000000         614.000000  592.000000         600.00000   \n",
       "mean       5403.459283        1621.245798  146.412162         342.00000   \n",
       "std        6109.041673        2926.248369   85.587325          65.12041   \n",
       "min         150.000000           0.000000    9.000000          12.00000   \n",
       "25%        2877.500000           0.000000  100.000000         360.00000   \n",
       "50%        3812.500000        1188.500000  128.000000         360.00000   \n",
       "75%        5795.000000        2297.250000  168.000000         360.00000   \n",
       "max       81000.000000       41667.000000  700.000000         480.00000   \n",
       "\n",
       "       Credit_History  \n",
       "count      564.000000  \n",
       "mean         0.842199  \n",
       "std          0.364878  \n",
       "min          0.000000  \n",
       "25%          1.000000  \n",
       "50%          1.000000  \n",
       "75%          1.000000  \n",
       "max          1.000000  "
      ]
     },
     "execution_count": 279,
     "metadata": {},
     "output_type": "execute_result"
    }
   ],
   "source": [
    "df_train.describe()"
   ]
  },
  {
   "cell_type": "markdown",
   "metadata": {},
   "source": [
    "### Univariate Analysis"
   ]
  },
  {
   "cell_type": "code",
   "execution_count": 280,
   "metadata": {},
   "outputs": [
    {
     "data": {
      "text/plain": [
       "<matplotlib.axes._subplots.AxesSubplot at 0x1a368c7e48>"
      ]
     },
     "execution_count": 280,
     "metadata": {},
     "output_type": "execute_result"
    },
    {
     "data": {
      "image/png": "[encoded data removed]",
      "text/plain": [
       "<Figure size 432x288 with 1 Axes>"
      ]
     },
     "metadata": {
      "needs_background": "light"
     },
     "output_type": "display_data"
    }
   ],
   "source": [
    "import seaborn as sns\n",
    "sns.countplot(df_train['Loan_Status'],label=\"Count\")\n",
    "# The loan of 422(around 69%) people out of 614 was approved."
   ]
  },
  {
   "cell_type": "code",
   "execution_count": 281,
   "metadata": {},
   "outputs": [
    {
     "data": {
      "image/png": "[encoded data removed]",
      "text/plain": [
       "<Figure size 1440x720 with 7 Axes>"
      ]
     },
     "metadata": {
      "needs_background": "light"
     },
     "output_type": "display_data"
    }
   ],
   "source": [
    "# Independent Variable (Categorical)\n",
    "plt.figure(1) \n",
    "plt.subplot(331) \n",
    "df_train['Gender'].value_counts(normalize=True).plot.bar(figsize=(20,10), title= 'Gender') \n",
    "plt.subplot(332) \n",
    "df_train['Married'].value_counts(normalize=True).plot.bar(title= 'Married') \n",
    "plt.subplot(333) \n",
    "df_train['Self_Employed'].value_counts(normalize=True).plot.bar(title= 'Self_Employed') \n",
    "plt.subplot(334) \n",
    "df_train['Credit_History'].value_counts(normalize=True).plot.bar(title= 'Credit_History')\n",
    "plt.subplot(335) \n",
    "df_train['Dependents'].value_counts(normalize=True).plot.bar(figsize=(20,10), title= 'Dependents') \n",
    "plt.subplot(336) \n",
    "df_train['Education'].value_counts(normalize=True).plot.bar(title= 'Education') \n",
    "plt.subplot(337) \n",
    "df_train['Property_Area'].value_counts(normalize=True).plot.bar(title= 'Property_Area')\n",
    "plt.show()\n",
    "# 80% applicants in the dataset are male.\n",
    "# Around 65% of the applicants in the dataset are married.\n",
    "# Around 15% applicants in the dataset are self employed.\n",
    "# Around 85% applicants have repaid their debts.\n",
    "# Most of the applicants don’t have any dependents.\n",
    "# Around 80% of the applicants are Graduate.\n",
    "# Most of the applicants are from Semiurban area."
   ]
  },
  {
   "cell_type": "code",
   "execution_count": 282,
   "metadata": {},
   "outputs": [
    {
     "data": {
      "image/png": "[encoded data removed]",
      "text/plain": [
       "<Figure size 1152x360 with 2 Axes>"
      ]
     },
     "metadata": {
      "needs_background": "light"
     },
     "output_type": "display_data"
    }
   ],
   "source": [
    "# Distribution of Applicant income \n",
    "plt.figure(1) \n",
    "plt.subplot(121) \n",
    "sns.distplot(df_train['ApplicantIncome']); \n",
    "plt.subplot(122) \n",
    "df_train['ApplicantIncome'].plot.box(figsize=(16,5)) \n",
    "plt.show()\n",
    "# The boxplot confirms the presence of a lot of outliers/extreme values, \n",
    "# maybe because we are looking at people with different education levels."
   ]
  },
  {
   "cell_type": "code",
   "execution_count": 283,
   "metadata": {},
   "outputs": [
    {
     "data": {
      "text/plain": [
       "Text(0.5, 0.98, '')"
      ]
     },
     "execution_count": 283,
     "metadata": {},
     "output_type": "execute_result"
    },
    {
     "data": {
      "image/png": "[encoded data removed]",
      "text/plain": [
       "<Figure size 432x288 with 1 Axes>"
      ]
     },
     "metadata": {
      "needs_background": "light"
     },
     "output_type": "display_data"
    }
   ],
   "source": [
    "# ApplicantIncome by Education\n",
    "df_train.boxplot(column='ApplicantIncome', by = 'Education') \n",
    "plt.suptitle(\"\")\n",
    "# We can see that there are a higher number of graduates with very high incomes,\n",
    "# which are appearing to be the outliers."
   ]
  },
  {
   "cell_type": "code",
   "execution_count": 284,
   "metadata": {},
   "outputs": [
    {
     "data": {
      "image/png": "[encoded data removed]",
      "text/plain": [
       "<Figure size 1152x360 with 2 Axes>"
      ]
     },
     "metadata": {
      "needs_background": "light"
     },
     "output_type": "display_data"
    }
   ],
   "source": [
    "# Distribution of Coapplicant income\n",
    "plt.figure(1) \n",
    "plt.subplot(121) \n",
    "sns.distplot(df_train['CoapplicantIncome']); \n",
    "plt.subplot(122) \n",
    "df_train['CoapplicantIncome'].plot.box(figsize=(16,5)) \n",
    "plt.show()\n",
    "# We can see a similar distribution as the applicant income with outliers, and the distibution is not normally"
   ]
  },
  {
   "cell_type": "code",
   "execution_count": 285,
   "metadata": {},
   "outputs": [
    {
     "data": {
      "image/png": "[encoded data removed]",
      "text/plain": [
       "<Figure size 1152x360 with 2 Axes>"
      ]
     },
     "metadata": {
      "needs_background": "light"
     },
     "output_type": "display_data"
    }
   ],
   "source": [
    "# Distribution of LoanAmount variable\n",
    "plt.figure(1) \n",
    "plt.subplot(121) \n",
    "df=df_train.dropna() \n",
    "sns.distplot(df['LoanAmount']); \n",
    "plt.subplot(122) \n",
    "df_train['LoanAmount'].plot.box(figsize=(16,5)) \n",
    "plt.show()\n",
    "# We can see a lot of outliers and the distribution is normally"
   ]
  },
  {
   "cell_type": "markdown",
   "metadata": {},
   "source": [
    "### Bivariate Analysis"
   ]
  },
  {
   "cell_type": "code",
   "execution_count": 286,
   "metadata": {},
   "outputs": [
    {
     "data": {
      "image/png": "[encoded data removed]",
      "text/plain": [
       "<Figure size 288x288 with 1 Axes>"
      ]
     },
     "metadata": {
      "needs_background": "light"
     },
     "output_type": "display_data"
    },
    {
     "data": {
      "image/png": "[encoded data removed]",
      "text/plain": [
       "<Figure size 432x288 with 1 Axes>"
      ]
     },
     "metadata": {
      "needs_background": "light"
     },
     "output_type": "display_data"
    },
    {
     "data": {
      "image/png": "[encoded data removed]",
      "text/plain": [
       "<Figure size 288x288 with 1 Axes>"
      ]
     },
     "metadata": {
      "needs_background": "light"
     },
     "output_type": "display_data"
    },
    {
     "data": {
      "image/png": "[encoded data removed]",
      "text/plain": [
       "<Figure size 288x288 with 1 Axes>"
      ]
     },
     "metadata": {
      "needs_background": "light"
     },
     "output_type": "display_data"
    }
   ],
   "source": [
    "# Stacked bar plot of categoricals variables (only useful)\n",
    "# GENDER VS LOAN_STATUS\n",
    "Married=pd.crosstab(df_train['Married'], df_train['Loan_Status']) \n",
    "Dependents=pd.crosstab(df_train['Dependents'], df_train['Loan_Status']) \n",
    "Education=pd.crosstab(df_train['Education'], df_train['Loan_Status'])\n",
    "Self_Employed=pd.crosstab(df_train['Self_Employed'],df_train['Loan_Status'])\n",
    "Married.div(Married.sum(1).astype(float), axis=0).plot(kind=\"bar\", stacked=True, figsize=(4,4)) \n",
    "plt.show() \n",
    "Dependents.div(Dependents.sum(1).astype(float), axis=0).plot(kind=\"bar\", stacked=True) \n",
    "plt.show() \n",
    "Education.div(Education.sum(1).astype(float), axis=0).plot(kind=\"bar\", stacked=True, figsize=(4,4)) \n",
    "plt.show()\n",
    "Self_Employed.div(Self_Employed.sum(1).astype(float), axis=0).plot(kind=\"bar\", stacked=True, figsize=(4,4)) \n",
    "plt.show()\n",
    "# It can be inferred that the proportion of male and female applicants is more or less same for both approved and unapproved loans.\n",
    "# Proportion of 2 dependents is higher for the approved loans.\n",
    "# Proportion of Graduate applicants is higher for the approved loans.\n",
    "# There is nothing significant we can infer from Self_Employed vs Loan_Status plot."
   ]
  },
  {
   "cell_type": "code",
   "execution_count": 287,
   "metadata": {},
   "outputs": [
    {
     "data": {
      "image/png": "[encoded data removed]",
      "text/plain": [
       "<Figure size 288x288 with 1 Axes>"
      ]
     },
     "metadata": {
      "needs_background": "light"
     },
     "output_type": "display_data"
    },
    {
     "data": {
      "image/png": "[encoded data removed]",
      "text/plain": [
       "<Figure size 432x288 with 1 Axes>"
      ]
     },
     "metadata": {
      "needs_background": "light"
     },
     "output_type": "display_data"
    }
   ],
   "source": [
    "Credit_History=pd.crosstab(df_train['Credit_History'],df_train['Loan_Status']) \n",
    "Property_Area=pd.crosstab(df_train['Property_Area'],df_train['Loan_Status']) \n",
    "Credit_History.div(Credit_History.sum(1).astype(float), axis=0).plot(kind=\"bar\", stacked=True, figsize=(4,4)) \n",
    "plt.show() \n",
    "Property_Area.div(Property_Area.sum(1).astype(float), axis=0).plot(kind=\"bar\", stacked=True) \n",
    "plt.show()\n",
    "# It seems people with credit history as 1 are more likely to get their loans approved.\n",
    "# Proportion of loans getting approved in semiurban area is higher as compared to rural or urban areas."
   ]
  },
  {
   "cell_type": "code",
   "execution_count": 288,
   "metadata": {},
   "outputs": [],
   "source": [
    "df_train['Dependents'].replace('3+', 3,inplace=True) \n",
    "df_test['Dependents'].replace('3+', 3,inplace=True) \n",
    "df_train['Loan_Status'].replace('N', 0,inplace=True) \n",
    "df_train['Loan_Status'].replace('Y', 1,inplace=True)"
   ]
  },
  {
   "cell_type": "code",
   "execution_count": 289,
   "metadata": {},
   "outputs": [
    {
     "data": {
      "image/png": "[encoded data removed]",
      "text/plain": [
       "<Figure size 648x432 with 2 Axes>"
      ]
     },
     "metadata": {
      "needs_background": "light"
     },
     "output_type": "display_data"
    }
   ],
   "source": [
    "# Heat map to visualize the correlation\n",
    "matrix = df_train.corr() \n",
    "f, ax = plt.subplots(figsize=(9, 6)) \n",
    "sns.heatmap(matrix, vmax=.8, square=True, cmap=\"BuPu\");\n",
    "# We see that the most correlated variables are:\n",
    "# (ApplicantIncome - LoanAmount) and (Credit_History - Loan_Status). \n",
    "# LoanAmount is also correlated with CoapplicantIncome."
   ]
  },
  {
   "cell_type": "markdown",
   "metadata": {},
   "source": [
    "### Taking care of missing values for df_train"
   ]
  },
  {
   "cell_type": "code",
   "execution_count": 290,
   "metadata": {},
   "outputs": [
    {
     "data": {
      "text/plain": [
       "Loan_ID               0\n",
       "Gender               13\n",
       "Married               3\n",
       "Dependents           15\n",
       "Education             0\n",
       "Self_Employed        32\n",
       "ApplicantIncome       0\n",
       "CoapplicantIncome     0\n",
       "LoanAmount           22\n",
       "Loan_Amount_Term     14\n",
       "Credit_History       50\n",
       "Property_Area         0\n",
       "Loan_Status           0\n",
       "dtype: int64"
      ]
     },
     "execution_count": 290,
     "metadata": {},
     "output_type": "execute_result"
    }
   ],
   "source": [
    "df_train.isnull().sum()"
   ]
  },
  {
   "cell_type": "code",
   "execution_count": 291,
   "metadata": {},
   "outputs": [],
   "source": [
    "#Imputing Missing values with mean for continuous variable\n",
    "df_train['LoanAmount'].fillna(df_train['LoanAmount'].mean(), inplace=True)\n",
    "df_train['Loan_Amount_Term'].fillna(df_train['Loan_Amount_Term'].mean(), inplace=True)\n",
    "df_train['ApplicantIncome'].fillna(df_train['ApplicantIncome'].mean(), inplace=True)\n",
    "df_train['CoapplicantIncome'].fillna(df_train['CoapplicantIncome'].mean(), inplace=True)\n",
    "\n",
    "#Imputing Missing values with mode for categorical variables\n",
    "df_train['Self_Employed'].fillna(df_train['Self_Employed'].mode()[0], inplace=True)\n",
    "df_train['Education'].fillna(df_train['Education'].mode()[0], inplace=True)\n",
    "df_train['Gender'].fillna(df_train['Gender'].mode()[0], inplace=True)\n",
    "df_train['Married'].fillna(df_train['Married'].mode()[0], inplace=True)\n",
    "df_train['Dependents'].fillna(df_train['Dependents'].mode()[0], inplace=True)\n",
    "df_train['Credit_History'].fillna(df_train['Credit_History'].mode()[0], inplace=True)\n",
    "df_train['Property_Area'].fillna(df_train['Property_Area'].mode()[0], inplace=True)\n",
    "\n",
    "df_train['LoanAmount'] = round(df_train['LoanAmount'],0)\n",
    "df_train['Loan_Amount_Term'] = round(df_train['Loan_Amount_Term'],0)"
   ]
  },
  {
   "cell_type": "code",
   "execution_count": 292,
   "metadata": {},
   "outputs": [
    {
     "data": {
      "text/plain": [
       "Loan_ID              0\n",
       "Gender               0\n",
       "Married              0\n",
       "Dependents           0\n",
       "Education            0\n",
       "Self_Employed        0\n",
       "ApplicantIncome      0\n",
       "CoapplicantIncome    0\n",
       "LoanAmount           0\n",
       "Loan_Amount_Term     0\n",
       "Credit_History       0\n",
       "Property_Area        0\n",
       "Loan_Status          0\n",
       "dtype: int64"
      ]
     },
     "execution_count": 292,
     "metadata": {},
     "output_type": "execute_result"
    }
   ],
   "source": [
    "df_train.isnull().sum()"
   ]
  },
  {
   "cell_type": "code",
   "execution_count": 293,
   "metadata": {},
   "outputs": [],
   "source": [
    "# Encoding categorical data but i'll use get_dummies to encode \"Property_Area\"\n",
    "from sklearn.preprocessing import LabelEncoder\n",
    "cat_cols = ['Credit_History','Gender','Married','Education','Self_Employed']\n",
    "for var in cat_cols:\n",
    "    labelencoder = LabelEncoder()\n",
    "    df_train[var] = labelencoder.fit_transform(df_train[var])"
   ]
  },
  {
   "cell_type": "code",
   "execution_count": 294,
   "metadata": {},
   "outputs": [
    {
     "data": {
      "text/html": [
       "<div>\n",
       "<style scoped>\n",
       "    .dataframe tbody tr th:only-of-type {\n",
       "        vertical-align: middle;\n",
       "    }\n",
       "\n",
       "    .dataframe tbody tr th {\n",
       "        vertical-align: top;\n",
       "    }\n",
       "\n",
       "    .dataframe thead th {\n",
       "        text-align: right;\n",
       "    }\n",
       "</style>\n",
       "<table border=\"1\" class=\"dataframe\">\n",
       "  <thead>\n",
       "    <tr style=\"text-align: right;\">\n",
       "      <th></th>\n",
       "      <th>Loan_ID</th>\n",
       "      <th>Gender</th>\n",
       "      <th>Married</th>\n",
       "      <th>Dependents</th>\n",
       "      <th>Education</th>\n",
       "      <th>Self_Employed</th>\n",
       "      <th>ApplicantIncome</th>\n",
       "      <th>CoapplicantIncome</th>\n",
       "      <th>LoanAmount</th>\n",
       "      <th>Loan_Amount_Term</th>\n",
       "      <th>Credit_History</th>\n",
       "      <th>Property_Area</th>\n",
       "      <th>Loan_Status</th>\n",
       "    </tr>\n",
       "  </thead>\n",
       "  <tbody>\n",
       "    <tr>\n",
       "      <th>0</th>\n",
       "      <td>LP001002</td>\n",
       "      <td>1</td>\n",
       "      <td>0</td>\n",
       "      <td>0</td>\n",
       "      <td>0</td>\n",
       "      <td>0</td>\n",
       "      <td>5849</td>\n",
       "      <td>0.0</td>\n",
       "      <td>146.0</td>\n",
       "      <td>360.0</td>\n",
       "      <td>1</td>\n",
       "      <td>Urban</td>\n",
       "      <td>1</td>\n",
       "    </tr>\n",
       "    <tr>\n",
       "      <th>1</th>\n",
       "      <td>LP001003</td>\n",
       "      <td>1</td>\n",
       "      <td>1</td>\n",
       "      <td>1</td>\n",
       "      <td>0</td>\n",
       "      <td>0</td>\n",
       "      <td>4583</td>\n",
       "      <td>1508.0</td>\n",
       "      <td>128.0</td>\n",
       "      <td>360.0</td>\n",
       "      <td>1</td>\n",
       "      <td>Rural</td>\n",
       "      <td>0</td>\n",
       "    </tr>\n",
       "    <tr>\n",
       "      <th>2</th>\n",
       "      <td>LP001005</td>\n",
       "      <td>1</td>\n",
       "      <td>1</td>\n",
       "      <td>0</td>\n",
       "      <td>0</td>\n",
       "      <td>1</td>\n",
       "      <td>3000</td>\n",
       "      <td>0.0</td>\n",
       "      <td>66.0</td>\n",
       "      <td>360.0</td>\n",
       "      <td>1</td>\n",
       "      <td>Urban</td>\n",
       "      <td>1</td>\n",
       "    </tr>\n",
       "    <tr>\n",
       "      <th>3</th>\n",
       "      <td>LP001006</td>\n",
       "      <td>1</td>\n",
       "      <td>1</td>\n",
       "      <td>0</td>\n",
       "      <td>1</td>\n",
       "      <td>0</td>\n",
       "      <td>2583</td>\n",
       "      <td>2358.0</td>\n",
       "      <td>120.0</td>\n",
       "      <td>360.0</td>\n",
       "      <td>1</td>\n",
       "      <td>Urban</td>\n",
       "      <td>1</td>\n",
       "    </tr>\n",
       "    <tr>\n",
       "      <th>4</th>\n",
       "      <td>LP001008</td>\n",
       "      <td>1</td>\n",
       "      <td>0</td>\n",
       "      <td>0</td>\n",
       "      <td>0</td>\n",
       "      <td>0</td>\n",
       "      <td>6000</td>\n",
       "      <td>0.0</td>\n",
       "      <td>141.0</td>\n",
       "      <td>360.0</td>\n",
       "      <td>1</td>\n",
       "      <td>Urban</td>\n",
       "      <td>1</td>\n",
       "    </tr>\n",
       "  </tbody>\n",
       "</table>\n",
       "</div>"
      ],
      "text/plain": [
       "    Loan_ID  Gender  Married Dependents  Education  Self_Employed  \\\n",
       "0  LP001002       1        0          0          0              0   \n",
       "1  LP001003       1        1          1          0              0   \n",
       "2  LP001005       1        1          0          0              1   \n",
       "3  LP001006       1        1          0          1              0   \n",
       "4  LP001008       1        0          0          0              0   \n",
       "\n",
       "   ApplicantIncome  CoapplicantIncome  LoanAmount  Loan_Amount_Term  \\\n",
       "0             5849                0.0       146.0             360.0   \n",
       "1             4583             1508.0       128.0             360.0   \n",
       "2             3000                0.0        66.0             360.0   \n",
       "3             2583             2358.0       120.0             360.0   \n",
       "4             6000                0.0       141.0             360.0   \n",
       "\n",
       "   Credit_History Property_Area  Loan_Status  \n",
       "0               1         Urban            1  \n",
       "1               1         Rural            0  \n",
       "2               1         Urban            1  \n",
       "3               1         Urban            1  \n",
       "4               1         Urban            1  "
      ]
     },
     "execution_count": 294,
     "metadata": {},
     "output_type": "execute_result"
    }
   ],
   "source": [
    "df_train.head()"
   ]
  },
  {
   "cell_type": "code",
   "execution_count": 295,
   "metadata": {},
   "outputs": [
    {
     "data": {
      "text/plain": [
       "(614, 13)"
      ]
     },
     "execution_count": 295,
     "metadata": {},
     "output_type": "execute_result"
    }
   ],
   "source": [
    "df_train.shape"
   ]
  },
  {
   "cell_type": "markdown",
   "metadata": {},
   "source": [
    "### Taking care of missing values for df_test"
   ]
  },
  {
   "cell_type": "code",
   "execution_count": 296,
   "metadata": {},
   "outputs": [
    {
     "data": {
      "text/plain": [
       "Loan_ID               0\n",
       "Gender               11\n",
       "Married               0\n",
       "Dependents           10\n",
       "Education             0\n",
       "Self_Employed        23\n",
       "ApplicantIncome       0\n",
       "CoapplicantIncome     0\n",
       "LoanAmount            5\n",
       "Loan_Amount_Term      6\n",
       "Credit_History       29\n",
       "Property_Area         0\n",
       "dtype: int64"
      ]
     },
     "execution_count": 296,
     "metadata": {},
     "output_type": "execute_result"
    }
   ],
   "source": [
    "df_test.isnull().sum()"
   ]
  },
  {
   "cell_type": "code",
   "execution_count": 297,
   "metadata": {},
   "outputs": [],
   "source": [
    "#Imputing Missing values with mean for continuous variable\n",
    "df_test['LoanAmount'].fillna(df_test['LoanAmount'].mean(), inplace=True)\n",
    "df_test['Loan_Amount_Term'].fillna(df_test['Loan_Amount_Term'].mean(), inplace=True)\n",
    "df_test['ApplicantIncome'].fillna(df_test['ApplicantIncome'].mean(), inplace=True)\n",
    "df_test['CoapplicantIncome'].fillna(df_test['CoapplicantIncome'].mean(), inplace=True)\n",
    "\n",
    "#Imputing Missing values with mode for categorical variables\n",
    "df_test['Self_Employed'].fillna(df_test['Self_Employed'].mode()[0], inplace=True)\n",
    "df_test['Education'].fillna(df_test['Education'].mode()[0], inplace=True)\n",
    "df_test['Gender'].fillna(df_test['Gender'].mode()[0], inplace=True)\n",
    "df_test['Married'].fillna(df_test['Married'].mode()[0], inplace=True)\n",
    "df_test['Dependents'].fillna(df_test['Dependents'].mode()[0], inplace=True)\n",
    "df_test['Credit_History'].fillna(df_test['Credit_History'].mode()[0], inplace=True)\n",
    "df_test['Property_Area'].fillna(df_test['Property_Area'].mode()[0], inplace=True)\n",
    "\n",
    "df_test['LoanAmount'] = round(df_test['LoanAmount'],0)\n",
    "df_test['Loan_Amount_Term'] = round(df_test['Loan_Amount_Term'],0)"
   ]
  },
  {
   "cell_type": "code",
   "execution_count": 298,
   "metadata": {},
   "outputs": [
    {
     "data": {
      "text/plain": [
       "Loan_ID              0\n",
       "Gender               0\n",
       "Married              0\n",
       "Dependents           0\n",
       "Education            0\n",
       "Self_Employed        0\n",
       "ApplicantIncome      0\n",
       "CoapplicantIncome    0\n",
       "LoanAmount           0\n",
       "Loan_Amount_Term     0\n",
       "Credit_History       0\n",
       "Property_Area        0\n",
       "dtype: int64"
      ]
     },
     "execution_count": 298,
     "metadata": {},
     "output_type": "execute_result"
    }
   ],
   "source": [
    "df_test.isnull().sum()"
   ]
  },
  {
   "cell_type": "code",
   "execution_count": 299,
   "metadata": {},
   "outputs": [],
   "source": [
    "df_test = df_test.iloc[:, 1:]"
   ]
  },
  {
   "cell_type": "code",
   "execution_count": 300,
   "metadata": {},
   "outputs": [
    {
     "data": {
      "text/html": [
       "<div>\n",
       "<style scoped>\n",
       "    .dataframe tbody tr th:only-of-type {\n",
       "        vertical-align: middle;\n",
       "    }\n",
       "\n",
       "    .dataframe tbody tr th {\n",
       "        vertical-align: top;\n",
       "    }\n",
       "\n",
       "    .dataframe thead th {\n",
       "        text-align: right;\n",
       "    }\n",
       "</style>\n",
       "<table border=\"1\" class=\"dataframe\">\n",
       "  <thead>\n",
       "    <tr style=\"text-align: right;\">\n",
       "      <th></th>\n",
       "      <th>Gender</th>\n",
       "      <th>Married</th>\n",
       "      <th>Dependents</th>\n",
       "      <th>Education</th>\n",
       "      <th>Self_Employed</th>\n",
       "      <th>ApplicantIncome</th>\n",
       "      <th>CoapplicantIncome</th>\n",
       "      <th>LoanAmount</th>\n",
       "      <th>Loan_Amount_Term</th>\n",
       "      <th>Credit_History</th>\n",
       "      <th>Property_Area</th>\n",
       "    </tr>\n",
       "  </thead>\n",
       "  <tbody>\n",
       "    <tr>\n",
       "      <th>0</th>\n",
       "      <td>1</td>\n",
       "      <td>1</td>\n",
       "      <td>0</td>\n",
       "      <td>0</td>\n",
       "      <td>0</td>\n",
       "      <td>5720</td>\n",
       "      <td>0</td>\n",
       "      <td>110.0</td>\n",
       "      <td>360.0</td>\n",
       "      <td>1</td>\n",
       "      <td>Urban</td>\n",
       "    </tr>\n",
       "    <tr>\n",
       "      <th>1</th>\n",
       "      <td>1</td>\n",
       "      <td>1</td>\n",
       "      <td>1</td>\n",
       "      <td>0</td>\n",
       "      <td>0</td>\n",
       "      <td>3076</td>\n",
       "      <td>1500</td>\n",
       "      <td>126.0</td>\n",
       "      <td>360.0</td>\n",
       "      <td>1</td>\n",
       "      <td>Urban</td>\n",
       "    </tr>\n",
       "    <tr>\n",
       "      <th>2</th>\n",
       "      <td>1</td>\n",
       "      <td>1</td>\n",
       "      <td>2</td>\n",
       "      <td>0</td>\n",
       "      <td>0</td>\n",
       "      <td>5000</td>\n",
       "      <td>1800</td>\n",
       "      <td>208.0</td>\n",
       "      <td>360.0</td>\n",
       "      <td>1</td>\n",
       "      <td>Urban</td>\n",
       "    </tr>\n",
       "    <tr>\n",
       "      <th>3</th>\n",
       "      <td>1</td>\n",
       "      <td>1</td>\n",
       "      <td>2</td>\n",
       "      <td>0</td>\n",
       "      <td>0</td>\n",
       "      <td>2340</td>\n",
       "      <td>2546</td>\n",
       "      <td>100.0</td>\n",
       "      <td>360.0</td>\n",
       "      <td>1</td>\n",
       "      <td>Urban</td>\n",
       "    </tr>\n",
       "    <tr>\n",
       "      <th>4</th>\n",
       "      <td>1</td>\n",
       "      <td>0</td>\n",
       "      <td>0</td>\n",
       "      <td>1</td>\n",
       "      <td>0</td>\n",
       "      <td>3276</td>\n",
       "      <td>0</td>\n",
       "      <td>78.0</td>\n",
       "      <td>360.0</td>\n",
       "      <td>1</td>\n",
       "      <td>Urban</td>\n",
       "    </tr>\n",
       "  </tbody>\n",
       "</table>\n",
       "</div>"
      ],
      "text/plain": [
       "   Gender  Married Dependents  Education  Self_Employed  ApplicantIncome  \\\n",
       "0       1        1          0          0              0             5720   \n",
       "1       1        1          1          0              0             3076   \n",
       "2       1        1          2          0              0             5000   \n",
       "3       1        1          2          0              0             2340   \n",
       "4       1        0          0          1              0             3276   \n",
       "\n",
       "   CoapplicantIncome  LoanAmount  Loan_Amount_Term  Credit_History  \\\n",
       "0                  0       110.0             360.0               1   \n",
       "1               1500       126.0             360.0               1   \n",
       "2               1800       208.0             360.0               1   \n",
       "3               2546       100.0             360.0               1   \n",
       "4                  0        78.0             360.0               1   \n",
       "\n",
       "  Property_Area  \n",
       "0         Urban  \n",
       "1         Urban  \n",
       "2         Urban  \n",
       "3         Urban  \n",
       "4         Urban  "
      ]
     },
     "execution_count": 300,
     "metadata": {},
     "output_type": "execute_result"
    }
   ],
   "source": [
    "# Encoding categorical data\n",
    "cat_cols = ['Credit_History','Gender','Married','Education','Self_Employed']\n",
    "for var in cat_cols:\n",
    "    labelencoder = LabelEncoder()\n",
    "    df_test[var] = labelencoder.fit_transform(df_test[var])\n",
    "#df_test = pd.get_dummies(df_test)\n",
    "df_test.head()"
   ]
  },
  {
   "cell_type": "code",
   "execution_count": 301,
   "metadata": {},
   "outputs": [
    {
     "data": {
      "text/plain": [
       "(367, 11)"
      ]
     },
     "execution_count": 301,
     "metadata": {},
     "output_type": "execute_result"
    }
   ],
   "source": [
    "df_test.shape"
   ]
  },
  {
   "cell_type": "markdown",
   "metadata": {},
   "source": [
    "### Taking care of outliers for df_train"
   ]
  },
  {
   "cell_type": "code",
   "execution_count": 302,
   "metadata": {},
   "outputs": [],
   "source": [
    "df_train['LoanAmount_log'] = np.log(df_train['LoanAmount'])\n",
    "for i in range(0, 614):\n",
    "    if df_train.at[i,'CoapplicantIncome'] > 0:\n",
    "        df_train.at[i,'CoapplicantIncome_log'] = np.log(df_train.at[i,'CoapplicantIncome'])\n",
    "    else:\n",
    "        df_train.at[i,'CoapplicantIncome_log'] = 0\n",
    "df_train['ApplicantIncome_log'] = np.log(df_train['ApplicantIncome'])"
   ]
  },
  {
   "cell_type": "code",
   "execution_count": 303,
   "metadata": {},
   "outputs": [
    {
     "data": {
      "text/html": [
       "<div>\n",
       "<style scoped>\n",
       "    .dataframe tbody tr th:only-of-type {\n",
       "        vertical-align: middle;\n",
       "    }\n",
       "\n",
       "    .dataframe tbody tr th {\n",
       "        vertical-align: top;\n",
       "    }\n",
       "\n",
       "    .dataframe thead th {\n",
       "        text-align: right;\n",
       "    }\n",
       "</style>\n",
       "<table border=\"1\" class=\"dataframe\">\n",
       "  <thead>\n",
       "    <tr style=\"text-align: right;\">\n",
       "      <th></th>\n",
       "      <th>Loan_ID</th>\n",
       "      <th>Gender</th>\n",
       "      <th>Married</th>\n",
       "      <th>Dependents</th>\n",
       "      <th>Education</th>\n",
       "      <th>Self_Employed</th>\n",
       "      <th>ApplicantIncome</th>\n",
       "      <th>CoapplicantIncome</th>\n",
       "      <th>LoanAmount</th>\n",
       "      <th>Loan_Amount_Term</th>\n",
       "      <th>Credit_History</th>\n",
       "      <th>Property_Area</th>\n",
       "      <th>Loan_Status</th>\n",
       "      <th>LoanAmount_log</th>\n",
       "      <th>CoapplicantIncome_log</th>\n",
       "      <th>ApplicantIncome_log</th>\n",
       "    </tr>\n",
       "  </thead>\n",
       "  <tbody>\n",
       "    <tr>\n",
       "      <th>0</th>\n",
       "      <td>LP001002</td>\n",
       "      <td>1</td>\n",
       "      <td>0</td>\n",
       "      <td>0</td>\n",
       "      <td>0</td>\n",
       "      <td>0</td>\n",
       "      <td>5849</td>\n",
       "      <td>0.0</td>\n",
       "      <td>146.0</td>\n",
       "      <td>360.0</td>\n",
       "      <td>1</td>\n",
       "      <td>Urban</td>\n",
       "      <td>1</td>\n",
       "      <td>4.983607</td>\n",
       "      <td>0.000000</td>\n",
       "      <td>8.674026</td>\n",
       "    </tr>\n",
       "    <tr>\n",
       "      <th>1</th>\n",
       "      <td>LP001003</td>\n",
       "      <td>1</td>\n",
       "      <td>1</td>\n",
       "      <td>1</td>\n",
       "      <td>0</td>\n",
       "      <td>0</td>\n",
       "      <td>4583</td>\n",
       "      <td>1508.0</td>\n",
       "      <td>128.0</td>\n",
       "      <td>360.0</td>\n",
       "      <td>1</td>\n",
       "      <td>Rural</td>\n",
       "      <td>0</td>\n",
       "      <td>4.852030</td>\n",
       "      <td>7.318540</td>\n",
       "      <td>8.430109</td>\n",
       "    </tr>\n",
       "    <tr>\n",
       "      <th>2</th>\n",
       "      <td>LP001005</td>\n",
       "      <td>1</td>\n",
       "      <td>1</td>\n",
       "      <td>0</td>\n",
       "      <td>0</td>\n",
       "      <td>1</td>\n",
       "      <td>3000</td>\n",
       "      <td>0.0</td>\n",
       "      <td>66.0</td>\n",
       "      <td>360.0</td>\n",
       "      <td>1</td>\n",
       "      <td>Urban</td>\n",
       "      <td>1</td>\n",
       "      <td>4.189655</td>\n",
       "      <td>0.000000</td>\n",
       "      <td>8.006368</td>\n",
       "    </tr>\n",
       "    <tr>\n",
       "      <th>3</th>\n",
       "      <td>LP001006</td>\n",
       "      <td>1</td>\n",
       "      <td>1</td>\n",
       "      <td>0</td>\n",
       "      <td>1</td>\n",
       "      <td>0</td>\n",
       "      <td>2583</td>\n",
       "      <td>2358.0</td>\n",
       "      <td>120.0</td>\n",
       "      <td>360.0</td>\n",
       "      <td>1</td>\n",
       "      <td>Urban</td>\n",
       "      <td>1</td>\n",
       "      <td>4.787492</td>\n",
       "      <td>7.765569</td>\n",
       "      <td>7.856707</td>\n",
       "    </tr>\n",
       "    <tr>\n",
       "      <th>4</th>\n",
       "      <td>LP001008</td>\n",
       "      <td>1</td>\n",
       "      <td>0</td>\n",
       "      <td>0</td>\n",
       "      <td>0</td>\n",
       "      <td>0</td>\n",
       "      <td>6000</td>\n",
       "      <td>0.0</td>\n",
       "      <td>141.0</td>\n",
       "      <td>360.0</td>\n",
       "      <td>1</td>\n",
       "      <td>Urban</td>\n",
       "      <td>1</td>\n",
       "      <td>4.948760</td>\n",
       "      <td>0.000000</td>\n",
       "      <td>8.699515</td>\n",
       "    </tr>\n",
       "  </tbody>\n",
       "</table>\n",
       "</div>"
      ],
      "text/plain": [
       "    Loan_ID  Gender  Married Dependents  Education  Self_Employed  \\\n",
       "0  LP001002       1        0          0          0              0   \n",
       "1  LP001003       1        1          1          0              0   \n",
       "2  LP001005       1        1          0          0              1   \n",
       "3  LP001006       1        1          0          1              0   \n",
       "4  LP001008       1        0          0          0              0   \n",
       "\n",
       "   ApplicantIncome  CoapplicantIncome  LoanAmount  Loan_Amount_Term  \\\n",
       "0             5849                0.0       146.0             360.0   \n",
       "1             4583             1508.0       128.0             360.0   \n",
       "2             3000                0.0        66.0             360.0   \n",
       "3             2583             2358.0       120.0             360.0   \n",
       "4             6000                0.0       141.0             360.0   \n",
       "\n",
       "   Credit_History Property_Area  Loan_Status  LoanAmount_log  \\\n",
       "0               1         Urban            1        4.983607   \n",
       "1               1         Rural            0        4.852030   \n",
       "2               1         Urban            1        4.189655   \n",
       "3               1         Urban            1        4.787492   \n",
       "4               1         Urban            1        4.948760   \n",
       "\n",
       "   CoapplicantIncome_log  ApplicantIncome_log  \n",
       "0               0.000000             8.674026  \n",
       "1               7.318540             8.430109  \n",
       "2               0.000000             8.006368  \n",
       "3               7.765569             7.856707  \n",
       "4               0.000000             8.699515  "
      ]
     },
     "execution_count": 303,
     "metadata": {},
     "output_type": "execute_result"
    }
   ],
   "source": [
    "df_train.head()"
   ]
  },
  {
   "cell_type": "markdown",
   "metadata": {},
   "source": [
    "### Taking care of outliers for df_test"
   ]
  },
  {
   "cell_type": "code",
   "execution_count": 304,
   "metadata": {},
   "outputs": [],
   "source": [
    "df_test['LoanAmount_log'] = np.log(df_test['LoanAmount'])\n",
    "#df_test['ApplicantIncome'] = np.log(df_test['ApplicantIncome'])\n",
    "for i in range(0, 367):\n",
    "    if df_test.at[i,'CoapplicantIncome'] > 0:\n",
    "        df_test.at[i,'CoapplicantIncome_log'] = np.log(df_test.at[i,'CoapplicantIncome'])\n",
    "    else:\n",
    "        df_test.at[i,'CoapplicantIncome_log'] = 0\n",
    "        \n",
    "    if df_test.at[i,'ApplicantIncome'] > 0:\n",
    "        df_test.at[i,'ApplicantIncome_log'] = np.log(df_test.at[i,'ApplicantIncome'])\n",
    "    else:\n",
    "        df_test.at[i,'ApplicantIncome_log'] = 0"
   ]
  },
  {
   "cell_type": "code",
   "execution_count": 305,
   "metadata": {},
   "outputs": [
    {
     "data": {
      "text/html": [
       "<div>\n",
       "<style scoped>\n",
       "    .dataframe tbody tr th:only-of-type {\n",
       "        vertical-align: middle;\n",
       "    }\n",
       "\n",
       "    .dataframe tbody tr th {\n",
       "        vertical-align: top;\n",
       "    }\n",
       "\n",
       "    .dataframe thead th {\n",
       "        text-align: right;\n",
       "    }\n",
       "</style>\n",
       "<table border=\"1\" class=\"dataframe\">\n",
       "  <thead>\n",
       "    <tr style=\"text-align: right;\">\n",
       "      <th></th>\n",
       "      <th>Gender</th>\n",
       "      <th>Married</th>\n",
       "      <th>Dependents</th>\n",
       "      <th>Education</th>\n",
       "      <th>Self_Employed</th>\n",
       "      <th>ApplicantIncome</th>\n",
       "      <th>CoapplicantIncome</th>\n",
       "      <th>LoanAmount</th>\n",
       "      <th>Loan_Amount_Term</th>\n",
       "      <th>Credit_History</th>\n",
       "      <th>Property_Area</th>\n",
       "      <th>LoanAmount_log</th>\n",
       "      <th>CoapplicantIncome_log</th>\n",
       "      <th>ApplicantIncome_log</th>\n",
       "    </tr>\n",
       "  </thead>\n",
       "  <tbody>\n",
       "    <tr>\n",
       "      <th>0</th>\n",
       "      <td>1</td>\n",
       "      <td>1</td>\n",
       "      <td>0</td>\n",
       "      <td>0</td>\n",
       "      <td>0</td>\n",
       "      <td>5720</td>\n",
       "      <td>0</td>\n",
       "      <td>110.0</td>\n",
       "      <td>360.0</td>\n",
       "      <td>1</td>\n",
       "      <td>Urban</td>\n",
       "      <td>4.700480</td>\n",
       "      <td>0.000000</td>\n",
       "      <td>8.651724</td>\n",
       "    </tr>\n",
       "    <tr>\n",
       "      <th>1</th>\n",
       "      <td>1</td>\n",
       "      <td>1</td>\n",
       "      <td>1</td>\n",
       "      <td>0</td>\n",
       "      <td>0</td>\n",
       "      <td>3076</td>\n",
       "      <td>1500</td>\n",
       "      <td>126.0</td>\n",
       "      <td>360.0</td>\n",
       "      <td>1</td>\n",
       "      <td>Urban</td>\n",
       "      <td>4.836282</td>\n",
       "      <td>7.313220</td>\n",
       "      <td>8.031385</td>\n",
       "    </tr>\n",
       "    <tr>\n",
       "      <th>2</th>\n",
       "      <td>1</td>\n",
       "      <td>1</td>\n",
       "      <td>2</td>\n",
       "      <td>0</td>\n",
       "      <td>0</td>\n",
       "      <td>5000</td>\n",
       "      <td>1800</td>\n",
       "      <td>208.0</td>\n",
       "      <td>360.0</td>\n",
       "      <td>1</td>\n",
       "      <td>Urban</td>\n",
       "      <td>5.337538</td>\n",
       "      <td>7.495542</td>\n",
       "      <td>8.517193</td>\n",
       "    </tr>\n",
       "    <tr>\n",
       "      <th>3</th>\n",
       "      <td>1</td>\n",
       "      <td>1</td>\n",
       "      <td>2</td>\n",
       "      <td>0</td>\n",
       "      <td>0</td>\n",
       "      <td>2340</td>\n",
       "      <td>2546</td>\n",
       "      <td>100.0</td>\n",
       "      <td>360.0</td>\n",
       "      <td>1</td>\n",
       "      <td>Urban</td>\n",
       "      <td>4.605170</td>\n",
       "      <td>7.842279</td>\n",
       "      <td>7.757906</td>\n",
       "    </tr>\n",
       "    <tr>\n",
       "      <th>4</th>\n",
       "      <td>1</td>\n",
       "      <td>0</td>\n",
       "      <td>0</td>\n",
       "      <td>1</td>\n",
       "      <td>0</td>\n",
       "      <td>3276</td>\n",
       "      <td>0</td>\n",
       "      <td>78.0</td>\n",
       "      <td>360.0</td>\n",
       "      <td>1</td>\n",
       "      <td>Urban</td>\n",
       "      <td>4.356709</td>\n",
       "      <td>0.000000</td>\n",
       "      <td>8.094378</td>\n",
       "    </tr>\n",
       "  </tbody>\n",
       "</table>\n",
       "</div>"
      ],
      "text/plain": [
       "   Gender  Married Dependents  Education  Self_Employed  ApplicantIncome  \\\n",
       "0       1        1          0          0              0             5720   \n",
       "1       1        1          1          0              0             3076   \n",
       "2       1        1          2          0              0             5000   \n",
       "3       1        1          2          0              0             2340   \n",
       "4       1        0          0          1              0             3276   \n",
       "\n",
       "   CoapplicantIncome  LoanAmount  Loan_Amount_Term  Credit_History  \\\n",
       "0                  0       110.0             360.0               1   \n",
       "1               1500       126.0             360.0               1   \n",
       "2               1800       208.0             360.0               1   \n",
       "3               2546       100.0             360.0               1   \n",
       "4                  0        78.0             360.0               1   \n",
       "\n",
       "  Property_Area  LoanAmount_log  CoapplicantIncome_log  ApplicantIncome_log  \n",
       "0         Urban        4.700480               0.000000             8.651724  \n",
       "1         Urban        4.836282               7.313220             8.031385  \n",
       "2         Urban        5.337538               7.495542             8.517193  \n",
       "3         Urban        4.605170               7.842279             7.757906  \n",
       "4         Urban        4.356709               0.000000             8.094378  "
      ]
     },
     "execution_count": 305,
     "metadata": {},
     "output_type": "execute_result"
    }
   ],
   "source": [
    "df_test.head()"
   ]
  },
  {
   "cell_type": "markdown",
   "metadata": {},
   "source": [
    "### Pre-process"
   ]
  },
  {
   "cell_type": "code",
   "execution_count": 306,
   "metadata": {},
   "outputs": [],
   "source": [
    "X = df_train.iloc[:, [1,2,3,4,5,9,10,11,13,14,15]]\n",
    "y = df_train.iloc[:, 12]"
   ]
  },
  {
   "cell_type": "code",
   "execution_count": 307,
   "metadata": {},
   "outputs": [],
   "source": [
    "X['Dependents'] = X['Dependents'].astype(str).astype(int)"
   ]
  },
  {
   "cell_type": "code",
   "execution_count": 308,
   "metadata": {},
   "outputs": [
    {
     "data": {
      "text/plain": [
       "Gender                     int64\n",
       "Married                    int64\n",
       "Dependents                 int64\n",
       "Education                  int64\n",
       "Self_Employed              int64\n",
       "Loan_Amount_Term         float64\n",
       "Credit_History             int64\n",
       "Property_Area             object\n",
       "LoanAmount_log           float64\n",
       "CoapplicantIncome_log    float64\n",
       "ApplicantIncome_log      float64\n",
       "dtype: object"
      ]
     },
     "execution_count": 308,
     "metadata": {},
     "output_type": "execute_result"
    }
   ],
   "source": [
    "X.dtypes"
   ]
  },
  {
   "cell_type": "code",
   "execution_count": 309,
   "metadata": {},
   "outputs": [
    {
     "data": {
      "text/html": [
       "<div>\n",
       "<style scoped>\n",
       "    .dataframe tbody tr th:only-of-type {\n",
       "        vertical-align: middle;\n",
       "    }\n",
       "\n",
       "    .dataframe tbody tr th {\n",
       "        vertical-align: top;\n",
       "    }\n",
       "\n",
       "    .dataframe thead th {\n",
       "        text-align: right;\n",
       "    }\n",
       "</style>\n",
       "<table border=\"1\" class=\"dataframe\">\n",
       "  <thead>\n",
       "    <tr style=\"text-align: right;\">\n",
       "      <th></th>\n",
       "      <th>Gender</th>\n",
       "      <th>Married</th>\n",
       "      <th>Dependents</th>\n",
       "      <th>Education</th>\n",
       "      <th>Self_Employed</th>\n",
       "      <th>Loan_Amount_Term</th>\n",
       "      <th>Credit_History</th>\n",
       "      <th>LoanAmount_log</th>\n",
       "      <th>CoapplicantIncome_log</th>\n",
       "      <th>ApplicantIncome_log</th>\n",
       "      <th>Property_Area_Rural</th>\n",
       "      <th>Property_Area_Semiurban</th>\n",
       "      <th>Property_Area_Urban</th>\n",
       "    </tr>\n",
       "  </thead>\n",
       "  <tbody>\n",
       "    <tr>\n",
       "      <th>0</th>\n",
       "      <td>1</td>\n",
       "      <td>0</td>\n",
       "      <td>0</td>\n",
       "      <td>0</td>\n",
       "      <td>0</td>\n",
       "      <td>360.0</td>\n",
       "      <td>1</td>\n",
       "      <td>4.983607</td>\n",
       "      <td>0.000000</td>\n",
       "      <td>8.674026</td>\n",
       "      <td>0</td>\n",
       "      <td>0</td>\n",
       "      <td>1</td>\n",
       "    </tr>\n",
       "    <tr>\n",
       "      <th>1</th>\n",
       "      <td>1</td>\n",
       "      <td>1</td>\n",
       "      <td>1</td>\n",
       "      <td>0</td>\n",
       "      <td>0</td>\n",
       "      <td>360.0</td>\n",
       "      <td>1</td>\n",
       "      <td>4.852030</td>\n",
       "      <td>7.318540</td>\n",
       "      <td>8.430109</td>\n",
       "      <td>1</td>\n",
       "      <td>0</td>\n",
       "      <td>0</td>\n",
       "    </tr>\n",
       "    <tr>\n",
       "      <th>2</th>\n",
       "      <td>1</td>\n",
       "      <td>1</td>\n",
       "      <td>0</td>\n",
       "      <td>0</td>\n",
       "      <td>1</td>\n",
       "      <td>360.0</td>\n",
       "      <td>1</td>\n",
       "      <td>4.189655</td>\n",
       "      <td>0.000000</td>\n",
       "      <td>8.006368</td>\n",
       "      <td>0</td>\n",
       "      <td>0</td>\n",
       "      <td>1</td>\n",
       "    </tr>\n",
       "    <tr>\n",
       "      <th>3</th>\n",
       "      <td>1</td>\n",
       "      <td>1</td>\n",
       "      <td>0</td>\n",
       "      <td>1</td>\n",
       "      <td>0</td>\n",
       "      <td>360.0</td>\n",
       "      <td>1</td>\n",
       "      <td>4.787492</td>\n",
       "      <td>7.765569</td>\n",
       "      <td>7.856707</td>\n",
       "      <td>0</td>\n",
       "      <td>0</td>\n",
       "      <td>1</td>\n",
       "    </tr>\n",
       "    <tr>\n",
       "      <th>4</th>\n",
       "      <td>1</td>\n",
       "      <td>0</td>\n",
       "      <td>0</td>\n",
       "      <td>0</td>\n",
       "      <td>0</td>\n",
       "      <td>360.0</td>\n",
       "      <td>1</td>\n",
       "      <td>4.948760</td>\n",
       "      <td>0.000000</td>\n",
       "      <td>8.699515</td>\n",
       "      <td>0</td>\n",
       "      <td>0</td>\n",
       "      <td>1</td>\n",
       "    </tr>\n",
       "  </tbody>\n",
       "</table>\n",
       "</div>"
      ],
      "text/plain": [
       "   Gender  Married  Dependents  Education  Self_Employed  Loan_Amount_Term  \\\n",
       "0       1        0           0          0              0             360.0   \n",
       "1       1        1           1          0              0             360.0   \n",
       "2       1        1           0          0              1             360.0   \n",
       "3       1        1           0          1              0             360.0   \n",
       "4       1        0           0          0              0             360.0   \n",
       "\n",
       "   Credit_History  LoanAmount_log  CoapplicantIncome_log  ApplicantIncome_log  \\\n",
       "0               1        4.983607               0.000000             8.674026   \n",
       "1               1        4.852030               7.318540             8.430109   \n",
       "2               1        4.189655               0.000000             8.006368   \n",
       "3               1        4.787492               7.765569             7.856707   \n",
       "4               1        4.948760               0.000000             8.699515   \n",
       "\n",
       "   Property_Area_Rural  Property_Area_Semiurban  Property_Area_Urban  \n",
       "0                    0                        0                    1  \n",
       "1                    1                        0                    0  \n",
       "2                    0                        0                    1  \n",
       "3                    0                        0                    1  \n",
       "4                    0                        0                    1  "
      ]
     },
     "execution_count": 309,
     "metadata": {},
     "output_type": "execute_result"
    }
   ],
   "source": [
    "X = pd.get_dummies(X)\n",
    "X.head()"
   ]
  },
  {
   "cell_type": "code",
   "execution_count": 310,
   "metadata": {},
   "outputs": [
    {
     "data": {
      "text/plain": [
       "(614, 13)"
      ]
     },
     "execution_count": 310,
     "metadata": {},
     "output_type": "execute_result"
    }
   ],
   "source": [
    "X.shape"
   ]
  },
  {
   "cell_type": "code",
   "execution_count": 311,
   "metadata": {},
   "outputs": [],
   "source": [
    "#from sklearn.preprocessing import LabelEncoder\n",
    "#encode_y = LabelEncoder()\n",
    "#y = encode_y.fit_transform(y)"
   ]
  },
  {
   "cell_type": "code",
   "execution_count": 312,
   "metadata": {},
   "outputs": [],
   "source": [
    "# Splitting the dataset into the Training set and Test set\n",
    "from sklearn.model_selection import train_test_split\n",
    "X_train, X_test, y_train, y_test = train_test_split(X, y, test_size = 0.2, random_state = 0)"
   ]
  },
  {
   "cell_type": "markdown",
   "metadata": {},
   "source": [
    "### Models Evaluation"
   ]
  },
  {
   "cell_type": "code",
   "execution_count": 313,
   "metadata": {},
   "outputs": [],
   "source": [
    "from sklearn.pipeline import Pipeline\n",
    "from sklearn.preprocessing import StandardScaler\n",
    "from sklearn.svm import SVC\n",
    "from sklearn.model_selection import GridSearchCV\n",
    "from sklearn.svm import LinearSVC\n",
    "from sklearn.linear_model import LogisticRegression\n",
    "from sklearn.ensemble import RandomForestClassifier\n",
    "from sklearn.neighbors import KNeighborsClassifier\n",
    "from sklearn.ensemble import GradientBoostingClassifier\n",
    "from sklearn.naive_bayes import GaussianNB\n",
    "from sklearn.metrics import make_scorer\n",
    "from sklearn.metrics import accuracy_score\n",
    "from sklearn.metrics import f1_score\n",
    "\n",
    "import warnings\n",
    "warnings.filterwarnings(\"ignore\")\n"
   ]
  },
  {
   "cell_type": "code",
   "execution_count": 314,
   "metadata": {},
   "outputs": [],
   "source": [
    "names = [\n",
    "         \"Linear SVM\",\n",
    "         \"SVC\",\n",
    "         \"Logistic Regression\",\n",
    "         \"Random Forest\",\n",
    "         \"KNN\",\n",
    "         \"GradientBoostingClassifier\",\n",
    "         \"Naive Bayes\"\n",
    "        ]\n",
    "classifiers = [\n",
    "    LinearSVC(),\n",
    "    SVC(),\n",
    "    LogisticRegression(),\n",
    "    RandomForestClassifier(),\n",
    "    KNeighborsClassifier(),\n",
    "    GradientBoostingClassifier(),\n",
    "    GaussianNB(),\n",
    "]"
   ]
  },
  {
   "cell_type": "code",
   "execution_count": 254,
   "metadata": {},
   "outputs": [],
   "source": [
    "parameters = [\n",
    "              {\n",
    "                  'clf__C': (np.logspace(-5, 1, 5)),\n",
    "              },{\n",
    "                'clf__kernel': ['rbf'], \n",
    "                'clf__gamma': [1e-3, 1e-4, 1e-5],\n",
    "                'clf__C': [1, 10, 100, 1000]},\n",
    "              {\n",
    "                  'clf__C': (np.logspace(-3, 3, 20))\n",
    "              },{\n",
    "                  'clf__n_estimators' : [10, 20, 30],\n",
    "                  'clf__max_depth' : [None, 6, 8, 10],\n",
    "                  'clf__max_leaf_nodes': [None, 5, 10, 20],\n",
    "                  'clf__min_impurity_split': [0.1, 0.2, 0.3]\n",
    "              },{\n",
    "                  'clf__n_neighbors': [4,5,6,7,8,9,10,11,12]\n",
    "              },{\n",
    "                  'clf__learning_rate': [0.3, 0.2, 0.1, 0.05, 0.01],\n",
    "                  'clf__max_depth': [2,3,4,5,6],\n",
    "                  'clf__subsample': [1.0, 0.8, 0.5]\n",
    "              },{\n",
    "                  \n",
    "              }\n",
    "             ]"
   ]
  },
  {
   "cell_type": "code",
   "execution_count": 112,
   "metadata": {},
   "outputs": [
    {
     "name": "stdout",
     "output_type": "stream",
     "text": [
      "Linear SVM recall: 0.9777777777777777 params: {'clf__C': 0.00031622776601683794}\n",
      "SVC recall: 1.0 params: {'clf__C': 1, 'clf__gamma': 0.001, 'clf__kernel': 'rbf'}\n",
      "Logistic Regression recall: 0.9777777777777777 params: {'clf__C': 0.001}\n",
      "Random Forest recall: 0.9777777777777777 params: {'clf__max_depth': 8, 'clf__max_leaf_nodes': 5, 'clf__min_impurity_split': 0.2, 'clf__n_estimators': 30}\n",
      "KNN recall: 0.9777777777777777 params: {'clf__n_neighbors': 11}\n",
      "GradientBoostingClassifier recall: 0.9777777777777777 params: {'clf__learning_rate': 0.01, 'clf__max_depth': 4, 'clf__subsample': 0.8}\n",
      "Naive Bayes recall: 0.9777777777777777 params: {}\n",
      "Linear SVM roc_auc: 0.8134680134680135 params: {'clf__C': 1e-05}\n",
      "SVC roc_auc: 0.7737373737373737 params: {'clf__C': 10, 'clf__gamma': 0.001, 'clf__kernel': 'rbf'}\n",
      "Logistic Regression roc_auc: 0.8148148148148148 params: {'clf__C': 0.001}\n",
      "Random Forest roc_auc: 0.806060606060606 params: {'clf__max_depth': None, 'clf__max_leaf_nodes': 20, 'clf__min_impurity_split': 0.2, 'clf__n_estimators': 20}\n",
      "KNN roc_auc: 0.7461279461279462 params: {'clf__n_neighbors': 12}\n",
      "GradientBoostingClassifier roc_auc: 0.7932659932659932 params: {'clf__learning_rate': 0.05, 'clf__max_depth': 6, 'clf__subsample': 0.5}\n",
      "Naive Bayes roc_auc: 0.8141414141414142 params: {}\n",
      "Linear SVM f1: 0.8934010152284264 params: {'clf__C': 0.00031622776601683794}\n",
      "SVC f1: 0.8934010152284264 params: {'clf__C': 10, 'clf__gamma': 0.001, 'clf__kernel': 'rbf'}\n",
      "Logistic Regression f1: 0.8934010152284264 params: {'clf__C': 1.438449888287663}\n",
      "Random Forest f1: 0.8934010152284264 params: {'clf__max_depth': 8, 'clf__max_leaf_nodes': 10, 'clf__min_impurity_split': 0.2, 'clf__n_estimators': 20}\n",
      "KNN f1: 0.8888888888888888 params: {'clf__n_neighbors': 9}\n",
      "GradientBoostingClassifier f1: 0.8934010152284264 params: {'clf__learning_rate': 0.01, 'clf__max_depth': 2, 'clf__subsample': 1.0}\n",
      "Naive Bayes f1: 0.8934010152284264 params: {}\n",
      "Linear SVM accuracy: 0.8292682926829268 params: {'clf__C': 1e-05}\n",
      "SVC accuracy: 0.8292682926829268 params: {'clf__C': 10, 'clf__gamma': 0.001, 'clf__kernel': 'rbf'}\n",
      "Logistic Regression accuracy: 0.8292682926829268 params: {'clf__C': 0.001}\n",
      "Random Forest accuracy: 0.8048780487804879 params: {'clf__max_depth': None, 'clf__max_leaf_nodes': None, 'clf__min_impurity_split': 0.3, 'clf__n_estimators': 20}\n",
      "KNN accuracy: 0.8211382113821138 params: {'clf__n_neighbors': 9}\n",
      "GradientBoostingClassifier accuracy: 0.8292682926829268 params: {'clf__learning_rate': 0.01, 'clf__max_depth': 2, 'clf__subsample': 1.0}\n",
      "Naive Bayes accuracy: 0.8292682926829268 params: {}\n"
     ]
    }
   ],
   "source": [
    "scoring = ['recall', 'roc_auc', 'f1', 'accuracy']\n",
    "for scores in scoring:\n",
    "    for name, classifier, params in zip(names, classifiers, parameters):\n",
    "        clf_pipe = Pipeline([\n",
    "            ('scaler', StandardScaler()),\n",
    "            ('clf', classifier),\n",
    "        ])\n",
    "        gs_clf = GridSearchCV(clf_pipe, param_grid=params, cv = 10, n_jobs=-1, scoring=scores) #Stratified Kfolds\n",
    "        clf = gs_clf.fit(X_train, y_train)\n",
    "        score = clf.score(X_test, y_test)\n",
    "        best_params = gs_clf.best_params_\n",
    "        print(\"{} {}: {} params: {}\".format(name,scores, score, best_params))"
   ]
  },
  {
   "cell_type": "raw",
   "metadata": {},
   "source": [
    "We can see that Logistic Regression has the bests scores"
   ]
  },
  {
   "cell_type": "markdown",
   "metadata": {},
   "source": [
    "## Let's take a look to all models"
   ]
  },
  {
   "cell_type": "markdown",
   "metadata": {},
   "source": [
    "### Linear SVM"
   ]
  },
  {
   "cell_type": "code",
   "execution_count": 339,
   "metadata": {},
   "outputs": [
    {
     "name": "stdout",
     "output_type": "stream",
     "text": [
      "              precision    recall  f1-score   support\n",
      "\n",
      "           0       0.70      0.21      0.33        33\n",
      "           1       0.77      0.97      0.86        90\n",
      "\n",
      "   micro avg       0.76      0.76      0.76       123\n",
      "   macro avg       0.73      0.59      0.59       123\n",
      "weighted avg       0.75      0.76      0.71       123\n",
      "\n"
     ]
    },
    {
     "data": {
      "image/png": "[encoded data removed]",
      "text/plain": [
       "<Figure size 432x288 with 2 Axes>"
      ]
     },
     "metadata": {
      "needs_background": "light"
     },
     "output_type": "display_data"
    }
   ],
   "source": [
    "from sklearn.metrics import confusion_matrix\n",
    "import seaborn as sns\n",
    "from sklearn import metrics\n",
    "from sklearn.metrics import classification_report\n",
    "a = LinearSVC(C=10)\n",
    "a.fit(X_train, y_train)\n",
    "a_y_pred = a.predict(X_test)\n",
    "a_cm = metrics.confusion_matrix(a_y_pred, y_test, [0,1])\n",
    "sns.heatmap(a_cm, annot=True)\n",
    "plt.ylabel('True class')\n",
    "plt.xlabel('Predicted class')\n",
    "plt.title('Linear SVM')\n",
    "plt.savefig('linear_SVM')\n",
    "print(classification_report(y_test, a.predict(X_test)))"
   ]
  },
  {
   "cell_type": "markdown",
   "metadata": {},
   "source": [
    "### SVC"
   ]
  },
  {
   "cell_type": "code",
   "execution_count": 316,
   "metadata": {},
   "outputs": [
    {
     "name": "stdout",
     "output_type": "stream",
     "text": [
      "              precision    recall  f1-score   support\n",
      "\n",
      "           0       0.81      0.52      0.63        33\n",
      "           1       0.84      0.96      0.90        90\n",
      "\n",
      "   micro avg       0.84      0.84      0.84       123\n",
      "   macro avg       0.83      0.74      0.76       123\n",
      "weighted avg       0.83      0.84      0.82       123\n",
      "\n"
     ]
    },
    {
     "data": {
      "image/png": "[encoded data removed]",
      "text/plain": [
       "<Figure size 432x288 with 2 Axes>"
      ]
     },
     "metadata": {
      "needs_background": "light"
     },
     "output_type": "display_data"
    }
   ],
   "source": [
    "b = SVC(C=100, gamma=0.01, kernel='rbf')\n",
    "b.fit(X_train, y_train)\n",
    "b_y_pred = b.predict(X_test)\n",
    "b_cm = metrics.confusion_matrix(b_y_pred, y_test, [0,1])\n",
    "sns.heatmap(b_cm, annot=True)\n",
    "plt.ylabel('True class')\n",
    "plt.xlabel('Predicted class')\n",
    "plt.title('SVC')\n",
    "plt.savefig('svc')\n",
    "print(classification_report(y_test, b.predict(X_test)))"
   ]
  },
  {
   "cell_type": "markdown",
   "metadata": {},
   "source": [
    "### Random Forest"
   ]
  },
  {
   "cell_type": "code",
   "execution_count": 317,
   "metadata": {},
   "outputs": [
    {
     "name": "stdout",
     "output_type": "stream",
     "text": [
      "              precision    recall  f1-score   support\n",
      "\n",
      "           0       0.81      0.39      0.53        33\n",
      "           1       0.81      0.97      0.88        90\n",
      "\n",
      "   micro avg       0.81      0.81      0.81       123\n",
      "   macro avg       0.81      0.68      0.71       123\n",
      "weighted avg       0.81      0.81      0.79       123\n",
      "\n"
     ]
    },
    {
     "data": {
      "image/png": "[encoded data removed]",
      "text/plain": [
       "<Figure size 432x288 with 2 Axes>"
      ]
     },
     "metadata": {
      "needs_background": "light"
     },
     "output_type": "display_data"
    }
   ],
   "source": [
    "c = RandomForestClassifier(max_depth=5)\n",
    "c.fit(X_train, y_train)\n",
    "c_y_pred = c.predict(X_test)\n",
    "c_cm = metrics.confusion_matrix(c_y_pred, y_test, [0,1])\n",
    "sns.heatmap(c_cm, annot=True)\n",
    "plt.ylabel('True class')\n",
    "plt.xlabel('Predicted class')\n",
    "plt.title('Random Forest')\n",
    "plt.savefig('random_forest')\n",
    "print(classification_report(y_test, c.predict(X_test)))"
   ]
  },
  {
   "cell_type": "markdown",
   "metadata": {},
   "source": [
    "### KNN"
   ]
  },
  {
   "cell_type": "code",
   "execution_count": 318,
   "metadata": {},
   "outputs": [
    {
     "name": "stdout",
     "output_type": "stream",
     "text": [
      "              precision    recall  f1-score   support\n",
      "\n",
      "           0       0.56      0.30      0.39        33\n",
      "           1       0.78      0.91      0.84        90\n",
      "\n",
      "   micro avg       0.75      0.75      0.75       123\n",
      "   macro avg       0.67      0.61      0.62       123\n",
      "weighted avg       0.72      0.75      0.72       123\n",
      "\n"
     ]
    },
    {
     "data": {
      "image/png": "[encoded data removed]",
      "text/plain": [
       "<Figure size 432x288 with 2 Axes>"
      ]
     },
     "metadata": {
      "needs_background": "light"
     },
     "output_type": "display_data"
    }
   ],
   "source": [
    "d = KNeighborsClassifier(n_neighbors=10)\n",
    "d.fit(X_train, y_train)\n",
    "d_y_pred = d.predict(X_test)\n",
    "d_cm = metrics.confusion_matrix(d_y_pred, y_test, [0,1])\n",
    "sns.heatmap(d_cm, annot=True)\n",
    "plt.ylabel('True class')\n",
    "plt.xlabel('Predicted class')\n",
    "plt.title('KNN')\n",
    "plt.savefig('knn')\n",
    "print(classification_report(y_test, d.predict(X_test)))"
   ]
  },
  {
   "cell_type": "markdown",
   "metadata": {},
   "source": [
    "### GradientBoostingClassifier"
   ]
  },
  {
   "cell_type": "code",
   "execution_count": 319,
   "metadata": {},
   "outputs": [
    {
     "name": "stdout",
     "output_type": "stream",
     "text": [
      "              precision    recall  f1-score   support\n",
      "\n",
      "           0       0.88      0.42      0.57        33\n",
      "           1       0.82      0.98      0.89        90\n",
      "\n",
      "   micro avg       0.83      0.83      0.83       123\n",
      "   macro avg       0.85      0.70      0.73       123\n",
      "weighted avg       0.84      0.83      0.81       123\n",
      "\n"
     ]
    },
    {
     "data": {
      "image/png": "[encoded data removed]",
      "text/plain": [
       "<Figure size 432x288 with 2 Axes>"
      ]
     },
     "metadata": {
      "needs_background": "light"
     },
     "output_type": "display_data"
    }
   ],
   "source": [
    "e = GradientBoostingClassifier(learning_rate=0.01,max_depth=2,subsample=0.5)\n",
    "e.fit(X_train, y_train)\n",
    "e_y_pred = e.predict(X_test)\n",
    "e_cm = metrics.confusion_matrix(e_y_pred, y_test, [0,1])\n",
    "sns.heatmap(e_cm, annot=True)\n",
    "plt.ylabel('True class')\n",
    "plt.xlabel('Predicted class')\n",
    "plt.title('GradientBoostingClassifier')\n",
    "plt.savefig('GradientBoostingClassifier')\n",
    "print(classification_report(y_test, e.predict(X_test)))"
   ]
  },
  {
   "cell_type": "markdown",
   "metadata": {},
   "source": [
    "### Naive Bayes"
   ]
  },
  {
   "cell_type": "code",
   "execution_count": 320,
   "metadata": {},
   "outputs": [
    {
     "name": "stdout",
     "output_type": "stream",
     "text": [
      "              precision    recall  f1-score   support\n",
      "\n",
      "           0       0.88      0.42      0.57        33\n",
      "           1       0.82      0.98      0.89        90\n",
      "\n",
      "   micro avg       0.83      0.83      0.83       123\n",
      "   macro avg       0.85      0.70      0.73       123\n",
      "weighted avg       0.84      0.83      0.81       123\n",
      "\n"
     ]
    },
    {
     "data": {
      "image/png": "[encoded data removed]",
      "text/plain": [
       "<Figure size 432x288 with 2 Axes>"
      ]
     },
     "metadata": {
      "needs_background": "light"
     },
     "output_type": "display_data"
    }
   ],
   "source": [
    "f = GaussianNB()\n",
    "f.fit(X_train, y_train)\n",
    "f_y_pred = f.predict(X_test)\n",
    "f_cm = metrics.confusion_matrix(f_y_pred, y_test, [0,1])\n",
    "sns.heatmap(f_cm, annot=True)\n",
    "plt.ylabel('True class')\n",
    "plt.xlabel('Predicted class')\n",
    "plt.title('Naive Bayes')\n",
    "plt.savefig('naive_bayes')\n",
    "print(classification_report(y_test, f.predict(X_test)))"
   ]
  },
  {
   "cell_type": "markdown",
   "metadata": {},
   "source": [
    "### Grid Search for logistic regression"
   ]
  },
  {
   "cell_type": "code",
   "execution_count": 321,
   "metadata": {},
   "outputs": [
    {
     "name": "stdout",
     "output_type": "stream",
     "text": [
      "Best Parameters {'C': 1, 'penalty': 'l1'}\n",
      "Best Penalty: l1\n",
      "Best C: 1\n"
     ]
    }
   ],
   "source": [
    "# Create logistic regression object\n",
    "logistic = LogisticRegression()\n",
    "# Create a list of all of the different penalty values that you want to test and save them to a variable called 'penalty'\n",
    "penalty = ['l1', 'l2']\n",
    "# Create a list of all of the different C values that you want to test and save them to a variable called 'C'\n",
    "C = [0.0001, 0.001, 0.01, 1, 100]\n",
    "# Now that you have two lists each holding the different values that you want test, use the dict() function to combine them into a dictionary. \n",
    "# Save your new dictionary to the variable 'hyperparameters'\n",
    "hyperparameters = dict(C=C, penalty=penalty)\n",
    "# Fit your model using gridsearch\n",
    "clf = GridSearchCV(logistic, hyperparameters, cv=5, verbose=0)\n",
    "best_model = clf.fit(X_train, y_train)\n",
    "#Print all the Parameters that gave the best results:\n",
    "print('Best Parameters',clf.best_params_)\n",
    "# You can also print the best penalty and C value individually from best_model.best_estimator_.get_params()\n",
    "print('Best Penalty:', best_model.best_estimator_.get_params()['penalty'])\n",
    "print('Best C:', best_model.best_estimator_.get_params()['C'])"
   ]
  },
  {
   "cell_type": "markdown",
   "metadata": {},
   "source": [
    "### Logistic Regression"
   ]
  },
  {
   "cell_type": "code",
   "execution_count": 322,
   "metadata": {},
   "outputs": [
    {
     "name": "stdout",
     "output_type": "stream",
     "text": [
      "              precision    recall  f1-score   support\n",
      "\n",
      "           0       0.88      0.42      0.57        33\n",
      "           1       0.82      0.98      0.89        90\n",
      "\n",
      "   micro avg       0.83      0.83      0.83       123\n",
      "   macro avg       0.85      0.70      0.73       123\n",
      "weighted avg       0.84      0.83      0.81       123\n",
      "\n"
     ]
    },
    {
     "data": {
      "image/png": "[encoded data removed]",
      "text/plain": [
       "<Figure size 432x288 with 2 Axes>"
      ]
     },
     "metadata": {
      "needs_background": "light"
     },
     "output_type": "display_data"
    }
   ],
   "source": [
    "lr = LogisticRegression(C = 1, penalty = 'l1')\n",
    "lr.fit(X_train, y_train)\n",
    "lr_y_pred = lr.predict(X_test)\n",
    "lr_cm = metrics.confusion_matrix(lr_y_pred, y_test, [0,1])\n",
    "sns.heatmap(lr_cm, annot=True)\n",
    "plt.ylabel('True class')\n",
    "plt.xlabel('Predicted class')\n",
    "plt.title('Logistic Regression')\n",
    "plt.savefig('logistic_regression')\n",
    "print(classification_report(y_test, lr.predict(X_test)))"
   ]
  },
  {
   "cell_type": "code",
   "execution_count": 323,
   "metadata": {},
   "outputs": [
    {
     "data": {
      "text/plain": [
       "array([1, 1, 1, 1, 1, 0, 1, 1, 0, 1, 1, 1, 1, 1, 1, 1, 1, 1, 1, 0])"
      ]
     },
     "execution_count": 323,
     "metadata": {},
     "output_type": "execute_result"
    }
   ],
   "source": [
    "y_pred = lr.predict(X_test)\n",
    "y_pred[0:20]"
   ]
  },
  {
   "cell_type": "code",
   "execution_count": 324,
   "metadata": {},
   "outputs": [
    {
     "data": {
      "text/plain": [
       "array([[0.1619983 , 0.8380017 ],\n",
       "       [0.19259192, 0.80740808],\n",
       "       [0.29115386, 0.70884614],\n",
       "       [0.19279315, 0.80720685],\n",
       "       [0.10567401, 0.89432599],\n",
       "       [0.93176036, 0.06823964],\n",
       "       [0.17357542, 0.82642458],\n",
       "       [0.30304749, 0.69695251],\n",
       "       [0.94308637, 0.05691363],\n",
       "       [0.14658692, 0.85341308],\n",
       "       [0.17409628, 0.82590372],\n",
       "       [0.13797569, 0.86202431],\n",
       "       [0.26990815, 0.73009185],\n",
       "       [0.14914693, 0.85085307],\n",
       "       [0.13627318, 0.86372682],\n",
       "       [0.17218933, 0.82781067],\n",
       "       [0.26079745, 0.73920255],\n",
       "       [0.2492845 , 0.7507155 ],\n",
       "       [0.26350566, 0.73649434],\n",
       "       [0.94625308, 0.05374692]])"
      ]
     },
     "execution_count": 324,
     "metadata": {},
     "output_type": "execute_result"
    }
   ],
   "source": [
    "y_pred_prob = lr.predict_proba(X_test)\n",
    "y_pred_prob[0:20,:]"
   ]
  },
  {
   "cell_type": "code",
   "execution_count": 325,
   "metadata": {},
   "outputs": [
    {
     "name": "stdout",
     "output_type": "stream",
     "text": [
      "Results on the test set:\n",
      "\n",
      "#################\n",
      "Accuracy:  0.8293\n",
      "Recall:    0.9778\n",
      "Precision: 0.8224\n",
      "#################\n"
     ]
    }
   ],
   "source": [
    "from sklearn.metrics import recall_score, precision_score\n",
    "recall = recall_score(y_test, y_pred)\n",
    "prec_score = precision_score(y_test, y_pred)\n",
    "accuracy = lr.score(X_test, y_test)\n",
    "print(\"Results on the test set:\\n\")\n",
    "print(\"#################\")\n",
    "print(\"Accuracy: \", round(accuracy,4))\n",
    "print(\"Recall:   \", round(recall,4))\n",
    "print(\"Precision:\", round(prec_score,4))\n",
    "print(\"#################\")"
   ]
  },
  {
   "cell_type": "markdown",
   "metadata": {},
   "source": [
    "### Decision functions"
   ]
  },
  {
   "cell_type": "code",
   "execution_count": 326,
   "metadata": {},
   "outputs": [
    {
     "data": {
      "text/plain": [
       "[(1, 1.6266084721265979),\n",
       " (0, 1.4367524675599792),\n",
       " (1, 0.9066190134918451),\n",
       " (0, 1.4191918898021234),\n",
       " (1, 2.1268901157848585),\n",
       " (0, -2.6083399572608106),\n",
       " (1, 1.555581523379235),\n",
       " (1, 0.8582412531268737),\n",
       " (0, -2.8117091987188902),\n",
       " (1, 1.7695222626765008),\n",
       " (1, 1.5579622863098717),\n",
       " (1, 1.835698809014712),\n",
       " (1, 1.016566588618227),\n",
       " (1, 1.7488262912099901),\n",
       " (1, 1.8185757379810266),\n",
       " (0, 1.554511368941573),\n",
       " (0, 1.0610455439062092),\n",
       " (1, 1.1138625429575426),\n",
       " (1, 1.0349071138258663),\n",
       " (0, -2.8525260011398346)]"
      ]
     },
     "execution_count": 326,
     "metadata": {},
     "output_type": "execute_result"
    }
   ],
   "source": [
    "y_pred_scores = lr.fit(X_train, y_train).decision_function(X_test)\n",
    "y_score_list = list(zip(y_test[0:20], y_pred_scores[0:20]))\n",
    "\n",
    "# show the decision_function scores for first 20 instances\n",
    "y_score_list"
   ]
  },
  {
   "cell_type": "code",
   "execution_count": 327,
   "metadata": {},
   "outputs": [
    {
     "data": {
      "text/plain": [
       "[(1, 0.838001695014574),\n",
       " (0, 0.8074080835515138),\n",
       " (1, 0.7088461425103543),\n",
       " (0, 0.8072068541576278),\n",
       " (1, 0.8943259925658943),\n",
       " (0, 0.0682396390369885),\n",
       " (1, 0.8264245816296989),\n",
       " (1, 0.6969525104660439),\n",
       " (0, 0.05691363002323694),\n",
       " (1, 0.8534130776389822),\n",
       " (1, 0.8259037177066033),\n",
       " (1, 0.8620243052353384),\n",
       " (1, 0.730091845071139),\n",
       " (1, 0.8508530735576283),\n",
       " (1, 0.8637268222253018),\n",
       " (0, 0.8278106667401572),\n",
       " (0, 0.7392025546173103),\n",
       " (1, 0.7507155024803698),\n",
       " (1, 0.7364943361776255),\n",
       " (0, 0.053746917988437254)]"
      ]
     },
     "execution_count": 327,
     "metadata": {},
     "output_type": "execute_result"
    }
   ],
   "source": [
    "y_proba_list = list(zip(y_test[0:20], y_pred_prob[0:20,1]))\n",
    "\n",
    "# show the probability for first 20 instances\n",
    "y_proba_list"
   ]
  },
  {
   "cell_type": "code",
   "execution_count": 328,
   "metadata": {},
   "outputs": [
    {
     "data": {
      "image/png": "[encoded data removed]",
      "text/plain": [
       "<Figure size 432x288 with 1 Axes>"
      ]
     },
     "metadata": {
      "needs_background": "light"
     },
     "output_type": "display_data"
    }
   ],
   "source": [
    "# Precision-recall curves\n",
    "from sklearn.metrics import precision_recall_curve\n",
    "\n",
    "precision, recall, thresholds = precision_recall_curve(y_test, y_pred_scores)\n",
    "closest_zero = np.argmin(np.abs(thresholds))\n",
    "closest_zero_p = precision[closest_zero]\n",
    "closest_zero_r = recall[closest_zero]\n",
    "\n",
    "plt.figure()\n",
    "plt.xlim([0.0, 1.01])\n",
    "plt.ylim([0.0, 1.01])\n",
    "plt.plot(precision, recall, label='Precision-Recall Curve')\n",
    "plt.plot(closest_zero_p, closest_zero_r, 'o', markersize = 12, fillstyle = 'none', c='r', mew=3)\n",
    "plt.xlabel('Precision', fontsize=16)\n",
    "plt.ylabel('Recall', fontsize=16)\n",
    "plt.axes().set_aspect('equal')\n",
    "plt.show()"
   ]
  },
  {
   "cell_type": "code",
   "execution_count": 329,
   "metadata": {},
   "outputs": [
    {
     "data": {
      "image/png": "[encoded data removed]",
      "text/plain": [
       "<Figure size 576x432 with 1 Axes>"
      ]
     },
     "metadata": {
      "needs_background": "light"
     },
     "output_type": "display_data"
    }
   ],
   "source": [
    "# ROC curves, Area-Under-Curve (AUC)\n",
    "from sklearn.metrics import roc_curve, auc\n",
    "\n",
    "fpr_lr, tpr_lr, _ = roc_curve(y_test, y_pred_scores)\n",
    "roc_auc_lr = auc(fpr_lr, tpr_lr)\n",
    "\n",
    "plt.figure(figsize=(8, 6))\n",
    "plt.xlim([-0.01, 1.00])\n",
    "plt.ylim([-0.01, 1.01])\n",
    "plt.plot(fpr_lr, tpr_lr, lw=3, label='LogRegr ROC curve (area = {:0.2f})'.format(roc_auc_lr))\n",
    "plt.xlabel('False Positive Rate', fontsize=16)\n",
    "plt.ylabel('True Positive Rate', fontsize=16)\n",
    "plt.title('ROC curve (1-of-10 digits classifier)', fontsize=16)\n",
    "plt.legend(loc='lower right', fontsize=13)\n",
    "plt.plot([0, 1], [0, 1], color='navy', lw=3, linestyle='--')\n",
    "plt.axes().set_aspect('equal')\n",
    "plt.show()"
   ]
  },
  {
   "cell_type": "markdown",
   "metadata": {},
   "source": [
    "### Make a prediction for the data test"
   ]
  },
  {
   "cell_type": "code",
   "execution_count": 330,
   "metadata": {},
   "outputs": [],
   "source": [
    "df_test = df_test.iloc[:,[0,1,2,3,4,8,9,10,11,12,13]]"
   ]
  },
  {
   "cell_type": "code",
   "execution_count": 331,
   "metadata": {},
   "outputs": [],
   "source": [
    "df_test['Dependents'] = df_test['Dependents'].astype(str).astype(int)"
   ]
  },
  {
   "cell_type": "code",
   "execution_count": 332,
   "metadata": {},
   "outputs": [],
   "source": [
    "df_test = pd.get_dummies(df_test)"
   ]
  },
  {
   "cell_type": "code",
   "execution_count": 333,
   "metadata": {},
   "outputs": [
    {
     "data": {
      "text/plain": [
       "array([1, 1, 1, 1, 1, 1, 1, 0, 1, 1, 1, 1, 1, 0, 1, 1, 1, 1, 1, 1])"
      ]
     },
     "execution_count": 333,
     "metadata": {},
     "output_type": "execute_result"
    }
   ],
   "source": [
    "pred_test = lr.predict(df_test)\n",
    "pred_test[0:20]"
   ]
  },
  {
   "cell_type": "code",
   "execution_count": 334,
   "metadata": {},
   "outputs": [
    {
     "data": {
      "text/plain": [
       "array([[0.22878469, 0.77121531],\n",
       "       [0.19364539, 0.80635461],\n",
       "       [0.21030603, 0.78969397],\n",
       "       [0.16054814, 0.83945186],\n",
       "       [0.32658182, 0.67341818],\n",
       "       [0.30659654, 0.69340346],\n",
       "       [0.19423559, 0.80576441],\n",
       "       [0.94881862, 0.05118138],\n",
       "       [0.21740519, 0.78259481],\n",
       "       [0.2381444 , 0.7618556 ],\n",
       "       [0.34366667, 0.65633333],\n",
       "       [0.14860535, 0.85139465],\n",
       "       [0.09860051, 0.90139949],\n",
       "       [0.8599689 , 0.1400311 ],\n",
       "       [0.19915004, 0.80084996],\n",
       "       [0.26490239, 0.73509761],\n",
       "       [0.20572024, 0.79427976],\n",
       "       [0.1096626 , 0.8903374 ],\n",
       "       [0.27022762, 0.72977238],\n",
       "       [0.11606853, 0.88393147]])"
      ]
     },
     "execution_count": 334,
     "metadata": {},
     "output_type": "execute_result"
    }
   ],
   "source": [
    "pred_test_prob = lr.predict_proba(df_test)\n",
    "pred_test_prob[0:20,:]"
   ]
  },
  {
   "cell_type": "code",
   "execution_count": 335,
   "metadata": {},
   "outputs": [
    {
     "data": {
      "text/html": [
       "<div>\n",
       "<style scoped>\n",
       "    .dataframe tbody tr th:only-of-type {\n",
       "        vertical-align: middle;\n",
       "    }\n",
       "\n",
       "    .dataframe tbody tr th {\n",
       "        vertical-align: top;\n",
       "    }\n",
       "\n",
       "    .dataframe thead th {\n",
       "        text-align: right;\n",
       "    }\n",
       "</style>\n",
       "<table border=\"1\" class=\"dataframe\">\n",
       "  <thead>\n",
       "    <tr style=\"text-align: right;\">\n",
       "      <th></th>\n",
       "      <th>Gender</th>\n",
       "      <th>Married</th>\n",
       "      <th>Dependents</th>\n",
       "      <th>Education</th>\n",
       "      <th>Self_Employed</th>\n",
       "      <th>Loan_Amount_Term</th>\n",
       "      <th>Credit_History</th>\n",
       "      <th>LoanAmount_log</th>\n",
       "      <th>CoapplicantIncome_log</th>\n",
       "      <th>ApplicantIncome_log</th>\n",
       "      <th>Property_Area_Rural</th>\n",
       "      <th>Property_Area_Semiurban</th>\n",
       "      <th>Property_Area_Urban</th>\n",
       "      <th>Loan_Status</th>\n",
       "    </tr>\n",
       "  </thead>\n",
       "  <tbody>\n",
       "    <tr>\n",
       "      <th>0</th>\n",
       "      <td>1</td>\n",
       "      <td>1</td>\n",
       "      <td>0</td>\n",
       "      <td>0</td>\n",
       "      <td>0</td>\n",
       "      <td>360.0</td>\n",
       "      <td>1</td>\n",
       "      <td>4.700480</td>\n",
       "      <td>0.000000</td>\n",
       "      <td>8.651724</td>\n",
       "      <td>0</td>\n",
       "      <td>0</td>\n",
       "      <td>1</td>\n",
       "      <td>Y</td>\n",
       "    </tr>\n",
       "    <tr>\n",
       "      <th>1</th>\n",
       "      <td>1</td>\n",
       "      <td>1</td>\n",
       "      <td>1</td>\n",
       "      <td>0</td>\n",
       "      <td>0</td>\n",
       "      <td>360.0</td>\n",
       "      <td>1</td>\n",
       "      <td>4.836282</td>\n",
       "      <td>7.313220</td>\n",
       "      <td>8.031385</td>\n",
       "      <td>0</td>\n",
       "      <td>0</td>\n",
       "      <td>1</td>\n",
       "      <td>Y</td>\n",
       "    </tr>\n",
       "    <tr>\n",
       "      <th>2</th>\n",
       "      <td>1</td>\n",
       "      <td>1</td>\n",
       "      <td>2</td>\n",
       "      <td>0</td>\n",
       "      <td>0</td>\n",
       "      <td>360.0</td>\n",
       "      <td>1</td>\n",
       "      <td>5.337538</td>\n",
       "      <td>7.495542</td>\n",
       "      <td>8.517193</td>\n",
       "      <td>0</td>\n",
       "      <td>0</td>\n",
       "      <td>1</td>\n",
       "      <td>Y</td>\n",
       "    </tr>\n",
       "    <tr>\n",
       "      <th>3</th>\n",
       "      <td>1</td>\n",
       "      <td>1</td>\n",
       "      <td>2</td>\n",
       "      <td>0</td>\n",
       "      <td>0</td>\n",
       "      <td>360.0</td>\n",
       "      <td>1</td>\n",
       "      <td>4.605170</td>\n",
       "      <td>7.842279</td>\n",
       "      <td>7.757906</td>\n",
       "      <td>0</td>\n",
       "      <td>0</td>\n",
       "      <td>1</td>\n",
       "      <td>Y</td>\n",
       "    </tr>\n",
       "    <tr>\n",
       "      <th>4</th>\n",
       "      <td>1</td>\n",
       "      <td>0</td>\n",
       "      <td>0</td>\n",
       "      <td>1</td>\n",
       "      <td>0</td>\n",
       "      <td>360.0</td>\n",
       "      <td>1</td>\n",
       "      <td>4.356709</td>\n",
       "      <td>0.000000</td>\n",
       "      <td>8.094378</td>\n",
       "      <td>0</td>\n",
       "      <td>0</td>\n",
       "      <td>1</td>\n",
       "      <td>Y</td>\n",
       "    </tr>\n",
       "  </tbody>\n",
       "</table>\n",
       "</div>"
      ],
      "text/plain": [
       "   Gender  Married  Dependents  Education  Self_Employed  Loan_Amount_Term  \\\n",
       "0       1        1           0          0              0             360.0   \n",
       "1       1        1           1          0              0             360.0   \n",
       "2       1        1           2          0              0             360.0   \n",
       "3       1        1           2          0              0             360.0   \n",
       "4       1        0           0          1              0             360.0   \n",
       "\n",
       "   Credit_History  LoanAmount_log  CoapplicantIncome_log  ApplicantIncome_log  \\\n",
       "0               1        4.700480               0.000000             8.651724   \n",
       "1               1        4.836282               7.313220             8.031385   \n",
       "2               1        5.337538               7.495542             8.517193   \n",
       "3               1        4.605170               7.842279             7.757906   \n",
       "4               1        4.356709               0.000000             8.094378   \n",
       "\n",
       "   Property_Area_Rural  Property_Area_Semiurban  Property_Area_Urban  \\\n",
       "0                    0                        0                    1   \n",
       "1                    0                        0                    1   \n",
       "2                    0                        0                    1   \n",
       "3                    0                        0                    1   \n",
       "4                    0                        0                    1   \n",
       "\n",
       "  Loan_Status  \n",
       "0           Y  \n",
       "1           Y  \n",
       "2           Y  \n",
       "3           Y  \n",
       "4           Y  "
      ]
     },
     "execution_count": 335,
     "metadata": {},
     "output_type": "execute_result"
    }
   ],
   "source": [
    "df_test_final = df_test.copy()\n",
    "df_test_final['Loan_Status']=pred_test\n",
    "df_test_final['Loan_Status'].replace(0, 'N',inplace=True) \n",
    "df_test_final['Loan_Status'].replace(1, 'Y',inplace=True)\n",
    "df_test_final.head()"
   ]
  },
  {
   "cell_type": "markdown",
   "metadata": {},
   "source": [
    "### ANN"
   ]
  },
  {
   "cell_type": "code",
   "execution_count": 133,
   "metadata": {},
   "outputs": [
    {
     "name": "stderr",
     "output_type": "stream",
     "text": [
      "Using TensorFlow backend.\n"
     ]
    }
   ],
   "source": [
    "import keras"
   ]
  },
  {
   "cell_type": "code",
   "execution_count": 134,
   "metadata": {},
   "outputs": [
    {
     "name": "stderr",
     "output_type": "stream",
     "text": [
      "WARNING: Logging before flag parsing goes to stderr.\n",
      "W0722 13:53:19.556361 4589618624 deprecation_wrapper.py:119] From /anaconda3/lib/python3.7/site-packages/keras/backend/tensorflow_backend.py:74: The name tf.get_default_graph is deprecated. Please use tf.compat.v1.get_default_graph instead.\n",
      "\n",
      "W0722 13:53:19.611593 4589618624 deprecation_wrapper.py:119] From /anaconda3/lib/python3.7/site-packages/keras/backend/tensorflow_backend.py:517: The name tf.placeholder is deprecated. Please use tf.compat.v1.placeholder instead.\n",
      "\n",
      "W0722 13:53:19.620508 4589618624 deprecation_wrapper.py:119] From /anaconda3/lib/python3.7/site-packages/keras/backend/tensorflow_backend.py:4138: The name tf.random_uniform is deprecated. Please use tf.random.uniform instead.\n",
      "\n",
      "W0722 13:53:19.719961 4589618624 deprecation_wrapper.py:119] From /anaconda3/lib/python3.7/site-packages/keras/optimizers.py:790: The name tf.train.Optimizer is deprecated. Please use tf.compat.v1.train.Optimizer instead.\n",
      "\n",
      "W0722 13:53:19.745655 4589618624 deprecation_wrapper.py:119] From /anaconda3/lib/python3.7/site-packages/keras/backend/tensorflow_backend.py:3376: The name tf.log is deprecated. Please use tf.math.log instead.\n",
      "\n",
      "W0722 13:53:19.751089 4589618624 deprecation.py:323] From /anaconda3/lib/python3.7/site-packages/tensorflow/python/ops/nn_impl.py:180: add_dispatch_support.<locals>.wrapper (from tensorflow.python.ops.array_ops) is deprecated and will be removed in a future version.\n",
      "Instructions for updating:\n",
      "Use tf.where in 2.0, which has the same broadcast rule as np.where\n",
      "W0722 13:53:19.942447 4589618624 deprecation_wrapper.py:119] From /anaconda3/lib/python3.7/site-packages/keras/backend/tensorflow_backend.py:986: The name tf.assign_add is deprecated. Please use tf.compat.v1.assign_add instead.\n",
      "\n"
     ]
    },
    {
     "name": "stdout",
     "output_type": "stream",
     "text": [
      "Epoch 1/100\n",
      "491/491 [==============================] - 1s 1ms/step - loss: 0.6566 - acc: 0.6721\n",
      "Epoch 2/100\n",
      "491/491 [==============================] - 0s 170us/step - loss: 0.6412 - acc: 0.6762\n",
      "Epoch 3/100\n",
      "491/491 [==============================] - 0s 172us/step - loss: 0.6350 - acc: 0.6762\n",
      "Epoch 4/100\n",
      "491/491 [==============================] - 0s 189us/step - loss: 0.6352 - acc: 0.6762\n",
      "Epoch 5/100\n",
      "491/491 [==============================] - 0s 149us/step - loss: 0.6404 - acc: 0.6762\n",
      "Epoch 6/100\n",
      "491/491 [==============================] - 0s 147us/step - loss: 0.6357 - acc: 0.6762\n",
      "Epoch 7/100\n",
      "491/491 [==============================] - 0s 146us/step - loss: 0.6381 - acc: 0.6762\n",
      "Epoch 8/100\n",
      "491/491 [==============================] - 0s 144us/step - loss: 0.6414 - acc: 0.6762\n",
      "Epoch 9/100\n",
      "491/491 [==============================] - 0s 152us/step - loss: 0.6325 - acc: 0.6762\n",
      "Epoch 10/100\n",
      "491/491 [==============================] - 0s 161us/step - loss: 0.6516 - acc: 0.6762\n",
      "Epoch 11/100\n",
      "491/491 [==============================] - 0s 151us/step - loss: 0.6367 - acc: 0.6762\n",
      "Epoch 12/100\n",
      "491/491 [==============================] - 0s 144us/step - loss: 0.6349 - acc: 0.6762\n",
      "Epoch 13/100\n",
      "491/491 [==============================] - 0s 138us/step - loss: 0.6332 - acc: 0.6762\n",
      "Epoch 14/100\n",
      "491/491 [==============================] - 0s 153us/step - loss: 0.6342 - acc: 0.6762\n",
      "Epoch 15/100\n",
      "491/491 [==============================] - 0s 142us/step - loss: 0.6359 - acc: 0.6762\n",
      "Epoch 16/100\n",
      "491/491 [==============================] - 0s 143us/step - loss: 0.6337 - acc: 0.6762\n",
      "Epoch 17/100\n",
      "491/491 [==============================] - 0s 189us/step - loss: 0.6335 - acc: 0.6762\n",
      "Epoch 18/100\n",
      "491/491 [==============================] - 0s 177us/step - loss: 0.6328 - acc: 0.6762\n",
      "Epoch 19/100\n",
      "491/491 [==============================] - 0s 152us/step - loss: 0.6290 - acc: 0.6762\n",
      "Epoch 20/100\n",
      "491/491 [==============================] - 0s 145us/step - loss: 0.6276 - acc: 0.6762\n",
      "Epoch 21/100\n",
      "491/491 [==============================] - 0s 164us/step - loss: 0.6284 - acc: 0.6762\n",
      "Epoch 22/100\n",
      "491/491 [==============================] - 0s 143us/step - loss: 0.6264 - acc: 0.6762\n",
      "Epoch 23/100\n",
      "491/491 [==============================] - 0s 151us/step - loss: 0.6273 - acc: 0.6762\n",
      "Epoch 24/100\n",
      "491/491 [==============================] - 0s 159us/step - loss: 0.6221 - acc: 0.6762\n",
      "Epoch 25/100\n",
      "491/491 [==============================] - 0s 147us/step - loss: 0.6273 - acc: 0.6762\n",
      "Epoch 26/100\n",
      "491/491 [==============================] - 0s 144us/step - loss: 0.6091 - acc: 0.6762\n",
      "Epoch 27/100\n",
      "491/491 [==============================] - 0s 197us/step - loss: 0.5960 - acc: 0.6762\n",
      "Epoch 28/100\n",
      "491/491 [==============================] - 0s 146us/step - loss: 0.6570 - acc: 0.6762\n",
      "Epoch 29/100\n",
      "491/491 [==============================] - 0s 157us/step - loss: 0.6332 - acc: 0.6762\n",
      "Epoch 30/100\n",
      "491/491 [==============================] - 0s 162us/step - loss: 0.6300 - acc: 0.6762\n",
      "Epoch 31/100\n",
      "491/491 [==============================] - 0s 146us/step - loss: 0.6275 - acc: 0.6762\n",
      "Epoch 32/100\n",
      "491/491 [==============================] - 0s 165us/step - loss: 0.6218 - acc: 0.6762\n",
      "Epoch 33/100\n",
      "491/491 [==============================] - 0s 154us/step - loss: 0.6049 - acc: 0.6762\n",
      "Epoch 34/100\n",
      "491/491 [==============================] - 0s 167us/step - loss: 0.5985 - acc: 0.6762\n",
      "Epoch 35/100\n",
      "491/491 [==============================] - 0s 158us/step - loss: 0.6228 - acc: 0.6762\n",
      "Epoch 36/100\n",
      "491/491 [==============================] - 0s 258us/step - loss: 0.5934 - acc: 0.6762\n",
      "Epoch 37/100\n",
      "491/491 [==============================] - 0s 178us/step - loss: 0.5763 - acc: 0.7128\n",
      "Epoch 38/100\n",
      "491/491 [==============================] - 0s 143us/step - loss: 0.5535 - acc: 0.7413\n",
      "Epoch 39/100\n",
      "491/491 [==============================] - 0s 155us/step - loss: 0.5409 - acc: 0.7556\n",
      "Epoch 40/100\n",
      "491/491 [==============================] - 0s 144us/step - loss: 0.5173 - acc: 0.7597\n",
      "Epoch 41/100\n",
      "491/491 [==============================] - 0s 154us/step - loss: 0.5373 - acc: 0.7576\n",
      "Epoch 42/100\n",
      "491/491 [==============================] - 0s 160us/step - loss: 0.5179 - acc: 0.7780\n",
      "Epoch 43/100\n",
      "491/491 [==============================] - 0s 140us/step - loss: 0.5004 - acc: 0.7760\n",
      "Epoch 44/100\n",
      "491/491 [==============================] - 0s 142us/step - loss: 0.5849 - acc: 0.6904\n",
      "Epoch 45/100\n",
      "491/491 [==============================] - 0s 145us/step - loss: 0.5247 - acc: 0.7637\n",
      "Epoch 46/100\n",
      "491/491 [==============================] - 0s 144us/step - loss: 0.4831 - acc: 0.7902\n",
      "Epoch 47/100\n",
      "491/491 [==============================] - 0s 147us/step - loss: 0.5111 - acc: 0.7780\n",
      "Epoch 48/100\n",
      "491/491 [==============================] - 0s 158us/step - loss: 0.5031 - acc: 0.7841\n",
      "Epoch 49/100\n",
      "491/491 [==============================] - 0s 168us/step - loss: 0.4657 - acc: 0.7984\n",
      "Epoch 50/100\n",
      "491/491 [==============================] - 0s 152us/step - loss: 0.4997 - acc: 0.7862\n",
      "Epoch 51/100\n",
      "491/491 [==============================] - 0s 160us/step - loss: 0.4795 - acc: 0.7943\n",
      "Epoch 52/100\n",
      "491/491 [==============================] - 0s 154us/step - loss: 0.4768 - acc: 0.7984\n",
      "Epoch 53/100\n",
      "491/491 [==============================] - 0s 164us/step - loss: 0.4798 - acc: 0.8004\n",
      "Epoch 54/100\n",
      "491/491 [==============================] - 0s 168us/step - loss: 0.4721 - acc: 0.8004\n",
      "Epoch 55/100\n",
      "491/491 [==============================] - 0s 159us/step - loss: 0.4929 - acc: 0.7902\n",
      "Epoch 56/100\n",
      "491/491 [==============================] - 0s 148us/step - loss: 0.4891 - acc: 0.7923\n",
      "Epoch 57/100\n",
      "491/491 [==============================] - 0s 149us/step - loss: 0.5031 - acc: 0.7882\n",
      "Epoch 58/100\n",
      "491/491 [==============================] - 0s 143us/step - loss: 0.4739 - acc: 0.8024\n",
      "Epoch 59/100\n",
      "491/491 [==============================] - 0s 145us/step - loss: 0.4612 - acc: 0.8147\n",
      "Epoch 60/100\n",
      "491/491 [==============================] - 0s 144us/step - loss: 0.4841 - acc: 0.8004\n",
      "Epoch 61/100\n",
      "491/491 [==============================] - 0s 153us/step - loss: 0.4924 - acc: 0.7862\n",
      "Epoch 62/100\n",
      "491/491 [==============================] - 0s 154us/step - loss: 0.4843 - acc: 0.7963\n",
      "Epoch 63/100\n",
      "491/491 [==============================] - 0s 154us/step - loss: 0.5147 - acc: 0.7719\n",
      "Epoch 64/100\n",
      "491/491 [==============================] - 0s 152us/step - loss: 0.4770 - acc: 0.8024\n",
      "Epoch 65/100\n",
      "491/491 [==============================] - 0s 146us/step - loss: 0.4669 - acc: 0.8106\n",
      "Epoch 66/100\n",
      "491/491 [==============================] - 0s 145us/step - loss: 0.4677 - acc: 0.8065\n",
      "Epoch 67/100\n",
      "491/491 [==============================] - 0s 144us/step - loss: 0.4635 - acc: 0.8086\n",
      "Epoch 68/100\n",
      "491/491 [==============================] - 0s 165us/step - loss: 0.4610 - acc: 0.8065\n",
      "Epoch 69/100\n",
      "491/491 [==============================] - 0s 146us/step - loss: 0.4635 - acc: 0.8106\n",
      "Epoch 70/100\n",
      "491/491 [==============================] - 0s 147us/step - loss: 0.4669 - acc: 0.8086\n",
      "Epoch 71/100\n",
      "491/491 [==============================] - 0s 145us/step - loss: 0.4661 - acc: 0.8106\n",
      "Epoch 72/100\n",
      "491/491 [==============================] - 0s 150us/step - loss: 0.4913 - acc: 0.7862\n",
      "Epoch 73/100\n",
      "491/491 [==============================] - 0s 145us/step - loss: 0.4666 - acc: 0.8086\n",
      "Epoch 74/100\n",
      "491/491 [==============================] - 0s 158us/step - loss: 0.4651 - acc: 0.8106\n",
      "Epoch 75/100\n",
      "491/491 [==============================] - 0s 160us/step - loss: 0.4692 - acc: 0.8024\n",
      "Epoch 76/100\n",
      "491/491 [==============================] - 0s 170us/step - loss: 0.4683 - acc: 0.8106\n",
      "Epoch 77/100\n",
      "491/491 [==============================] - 0s 144us/step - loss: 0.4610 - acc: 0.8086\n",
      "Epoch 78/100\n",
      "491/491 [==============================] - 0s 144us/step - loss: 0.4673 - acc: 0.8106\n",
      "Epoch 79/100\n",
      "491/491 [==============================] - 0s 145us/step - loss: 0.4632 - acc: 0.8086\n",
      "Epoch 80/100\n",
      "491/491 [==============================] - 0s 144us/step - loss: 0.4677 - acc: 0.8065\n",
      "Epoch 81/100\n",
      "491/491 [==============================] - 0s 152us/step - loss: 0.4704 - acc: 0.8086\n",
      "Epoch 82/100\n",
      "491/491 [==============================] - 0s 160us/step - loss: 0.4697 - acc: 0.8065\n",
      "Epoch 83/100\n",
      "491/491 [==============================] - 0s 154us/step - loss: 0.4656 - acc: 0.8024\n",
      "Epoch 84/100\n",
      "491/491 [==============================] - 0s 144us/step - loss: 0.4653 - acc: 0.8106\n",
      "Epoch 85/100\n",
      "491/491 [==============================] - 0s 145us/step - loss: 0.4897 - acc: 0.7862\n",
      "Epoch 86/100\n",
      "491/491 [==============================] - 0s 143us/step - loss: 0.4626 - acc: 0.8106\n",
      "Epoch 87/100\n",
      "491/491 [==============================] - 0s 144us/step - loss: 0.4857 - acc: 0.8004\n",
      "Epoch 88/100\n",
      "491/491 [==============================] - 0s 152us/step - loss: 0.4737 - acc: 0.8106\n",
      "Epoch 89/100\n",
      "491/491 [==============================] - 0s 167us/step - loss: 0.4658 - acc: 0.8065\n",
      "Epoch 90/100\n",
      "491/491 [==============================] - 0s 144us/step - loss: 0.4637 - acc: 0.8106\n",
      "Epoch 91/100\n",
      "491/491 [==============================] - 0s 143us/step - loss: 0.4786 - acc: 0.8045\n",
      "Epoch 92/100\n",
      "491/491 [==============================] - 0s 141us/step - loss: 0.4685 - acc: 0.8065\n",
      "Epoch 93/100\n",
      "491/491 [==============================] - 0s 143us/step - loss: 0.4668 - acc: 0.8106\n",
      "Epoch 94/100\n",
      "491/491 [==============================] - 0s 162us/step - loss: 0.4637 - acc: 0.8045\n",
      "Epoch 95/100\n",
      "491/491 [==============================] - 0s 160us/step - loss: 0.4641 - acc: 0.8086\n",
      "Epoch 96/100\n",
      "491/491 [==============================] - 0s 150us/step - loss: 0.4683 - acc: 0.8065\n",
      "Epoch 97/100\n",
      "491/491 [==============================] - 0s 156us/step - loss: 0.4754 - acc: 0.8045\n",
      "Epoch 98/100\n",
      "491/491 [==============================] - 0s 149us/step - loss: 0.4656 - acc: 0.8106\n",
      "Epoch 99/100\n",
      "491/491 [==============================] - 0s 146us/step - loss: 0.4676 - acc: 0.8086\n",
      "Epoch 100/100\n",
      "491/491 [==============================] - 0s 144us/step - loss: 0.4661 - acc: 0.8065\n",
      "491/491 [==============================] - 0s 111us/step\n",
      "123/123 [==============================] - 0s 41us/step\n"
     ]
    }
   ],
   "source": [
    "from keras.models import Sequential\n",
    "from keras.layers import Dense\n",
    "from keras.layers import Dropout\n",
    "\n",
    "classifier = Sequential()\n",
    "classifier.add(Dense(units = 128, kernel_initializer = 'uniform', activation = 'relu', input_dim = 13))\n",
    "classifier.add(Dense(units = 64, kernel_initializer = 'uniform', activation = 'relu'))\n",
    "classifier.add(Dense(units = 32, kernel_initializer = 'uniform', activation = 'relu'))\n",
    "classifier.add(Dense(units = 16, kernel_initializer = 'uniform', activation = 'relu'))\n",
    "classifier.add(Dense(units = 1, kernel_initializer = 'uniform', activation = 'sigmoid'))\n",
    "classifier.compile(optimizer = 'adam', loss = 'binary_crossentropy', metrics = ['accuracy'])\n",
    "classifier.fit(X_train, y_train, batch_size = 10, epochs = 100)\n",
    "score_train = classifier.evaluate(X_train, y_train)\n",
    "score_test = classifier.evaluate(X_test, y_test)"
   ]
  },
  {
   "cell_type": "code",
   "execution_count": 135,
   "metadata": {},
   "outputs": [
    {
     "name": "stdout",
     "output_type": "stream",
     "text": [
      "[0.5630228699103392, 0.7515274946655616]\n",
      "[0.5232942206103627, 0.7642276369459261]\n"
     ]
    }
   ],
   "source": [
    "print(score_train)\n",
    "print(score_test)\n",
    "# Loss and accuracy "
   ]
  },
  {
   "cell_type": "code",
   "execution_count": 136,
   "metadata": {},
   "outputs": [
    {
     "data": {
      "text/plain": [
       "array([[1],\n",
       "       [1],\n",
       "       [1],\n",
       "       [1],\n",
       "       [1],\n",
       "       [0],\n",
       "       [1],\n",
       "       [1],\n",
       "       [0],\n",
       "       [1],\n",
       "       [1],\n",
       "       [1],\n",
       "       [1],\n",
       "       [1],\n",
       "       [1],\n",
       "       [1],\n",
       "       [1],\n",
       "       [1],\n",
       "       [1],\n",
       "       [0]])"
      ]
     },
     "execution_count": 136,
     "metadata": {},
     "output_type": "execute_result"
    }
   ],
   "source": [
    "y_pred_ANN = classifier.predict(X_test)\n",
    "y_pred_ANN = y_pred_ANN>0.5\n",
    "y_pred_ANN = y_pred_ANN*1\n",
    "y_pred_ANN[0:20]"
   ]
  },
  {
   "cell_type": "code",
   "execution_count": 137,
   "metadata": {},
   "outputs": [
    {
     "name": "stdout",
     "output_type": "stream",
     "text": [
      "              precision    recall  f1-score   support\n",
      "\n",
      "           0       0.83      0.15      0.26        33\n",
      "           1       0.76      0.99      0.86        90\n",
      "\n",
      "   micro avg       0.76      0.76      0.76       123\n",
      "   macro avg       0.80      0.57      0.56       123\n",
      "weighted avg       0.78      0.76      0.70       123\n",
      "\n"
     ]
    },
    {
     "data": {
      "image/png": "[encoded data removed]",
      "text/plain": [
       "<Figure size 432x288 with 2 Axes>"
      ]
     },
     "metadata": {
      "needs_background": "light"
     },
     "output_type": "display_data"
    }
   ],
   "source": [
    "ANN_cm = metrics.confusion_matrix(y_pred_ANN, y_test, [0,1])\n",
    "sns.heatmap(ANN_cm, annot=True)\n",
    "plt.ylabel('True class')\n",
    "plt.xlabel('Predicted class')\n",
    "plt.title('ANN')\n",
    "plt.savefig('ANN')\n",
    "print(classification_report(y_test, y_pred_ANN))"
   ]
  },
  {
   "cell_type": "markdown",
   "metadata": {},
   "source": [
    "### Evaluate ANN"
   ]
  },
  {
   "cell_type": "code",
   "execution_count": 138,
   "metadata": {},
   "outputs": [
    {
     "data": {
      "text/plain": [
       "array([0.81999999, 0.85714285, 0.77551021, 0.83673469, 0.81632652,\n",
       "       0.85714284, 0.65306123, 0.79591837, 0.85714285, 0.75510205])"
      ]
     },
     "execution_count": 138,
     "metadata": {},
     "output_type": "execute_result"
    }
   ],
   "source": [
    "from keras.wrappers.scikit_learn import KerasClassifier\n",
    "from sklearn.model_selection import cross_val_score\n",
    "# Build fonction\n",
    "def build_classifier(optimizer='adam'):\n",
    "    classifier = Sequential()\n",
    "    classifier.add(Dense(units = 128, kernel_initializer = 'uniform', activation = 'relu', input_dim = 13))\n",
    "    classifier.add(Dense(units = 64, kernel_initializer = 'uniform', activation = 'relu'))\n",
    "    classifier.add(Dense(units = 32, kernel_initializer = 'uniform', activation = 'relu'))\n",
    "    classifier.add(Dense(units = 16, kernel_initializer = 'uniform', activation = 'relu'))\n",
    "    classifier.add(Dense(units = 1, kernel_initializer = 'uniform', activation = 'sigmoid'))\n",
    "    classifier.compile(optimizer = optimizer, loss = 'binary_crossentropy', metrics = ['accuracy'])\n",
    "    return classifier\n",
    "# K-fold cros validation\n",
    "classifier = KerasClassifier(build_fn = build_classifier, batch_size = 10, epochs = 100)\n",
    "accuracies = cross_val_score(estimator = classifier, X = X_train, y = y_train, cv = 10, n_jobs = -1)\n",
    "accuracies"
   ]
  },
  {
   "cell_type": "code",
   "execution_count": 139,
   "metadata": {},
   "outputs": [
    {
     "name": "stdout",
     "output_type": "stream",
     "text": [
      "0.8024081617593766\n",
      "0.059980956725397314\n"
     ]
    }
   ],
   "source": [
    "mean = accuracies.mean()\n",
    "variance = accuracies.std()\n",
    "print(mean)\n",
    "print(variance)"
   ]
  },
  {
   "cell_type": "code",
   "execution_count": null,
   "metadata": {},
   "outputs": [],
   "source": [
    "from sklearn.model_selection import GridSearchCV\n",
    "classifier = KerasClassifier(build_fn = build_classifier)\n",
    "parameters = {'batch_size': [25, 32],\n",
    "              'epochs': [50, 150],\n",
    "              'optimizer': ['adam', 'rmsprop']}\n",
    "grid_search = GridSearchCV(estimator = classifier,\n",
    "                           param_grid = parameters,\n",
    "                           scoring = 'accuracy',\n",
    "                           cv = 10,\n",
    "                           n_jobs=-1)\n",
    "grid_search = grid_search.fit(X_train, y_train)\n",
    "best_parameters = grid_search.best_params_\n",
    "best_accuracy = grid_search.best_score_"
   ]
  },
  {
   "cell_type": "markdown",
   "metadata": {},
   "source": [
    "## Deploy Machine Learning models in Production as APIs (using Flask)"
   ]
  },
  {
   "cell_type": "markdown",
   "metadata": {},
   "source": [
    "### Saving Machine Learning Model"
   ]
  },
  {
   "cell_type": "code",
   "execution_count": 631,
   "metadata": {},
   "outputs": [],
   "source": [
    "from sklearn.externals import joblib\n",
    "pickle.dump(lr, open(\"/Users/DG/loan-prediction/model.pkl\",\"wb\"))"
   ]
  }
 ],
 "metadata": {
  "kernelspec": {
   "display_name": "Python 3",
   "language": "python",
   "name": "python3"
  },
  "language_info": {
   "codemirror_mode": {
    "name": "ipython",
    "version": 3
   },
   "file_extension": ".py",
   "mimetype": "text/x-python",
   "name": "python",
   "nbconvert_exporter": "python",
   "pygments_lexer": "ipython3",
   "version": "3.7.3"
  }
 },
 "nbformat": 4,
 "nbformat_minor": 2
}
